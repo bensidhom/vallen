{
  "nbformat": 4,
  "nbformat_minor": 0,
  "metadata": {
    "colab": {
      "provenance": []
    },
    "kernelspec": {
      "name": "python3",
      "display_name": "Python 3"
    },
    "language_info": {
      "name": "python"
    }
  },
  "cells": [
    {
      "cell_type": "markdown",
      "source": [
        "# **DL**"
      ],
      "metadata": {
        "id": "i8np-Zrv1VCu"
      }
    },
    {
      "cell_type": "code",
      "execution_count": null,
      "metadata": {
        "colab": {
          "base_uri": "https://localhost:8080/",
          "height": 984
        },
        "collapsed": true,
        "id": "URKuEvNfo5-g",
        "outputId": "49375e26-62e8-40e5-d5d9-f04ed51dc22d"
      },
      "outputs": [
        {
          "output_type": "stream",
          "name": "stdout",
          "text": [
            "Collecting tf2onnx\n",
            "  Downloading tf2onnx-1.16.1-py3-none-any.whl.metadata (1.3 kB)\n",
            "Collecting onnxruntime\n",
            "  Downloading onnxruntime-1.20.1-cp310-cp310-manylinux_2_27_x86_64.manylinux_2_28_x86_64.whl.metadata (4.5 kB)\n",
            "Collecting netron\n",
            "  Downloading netron-8.0.5-py3-none-any.whl.metadata (1.5 kB)\n",
            "Requirement already satisfied: numpy>=1.14.1 in /usr/local/lib/python3.10/dist-packages (from tf2onnx) (1.26.4)\n",
            "Collecting onnx>=1.4.1 (from tf2onnx)\n",
            "  Downloading onnx-1.17.0-cp310-cp310-manylinux_2_17_x86_64.manylinux2014_x86_64.whl.metadata (16 kB)\n",
            "Requirement already satisfied: requests in /usr/local/lib/python3.10/dist-packages (from tf2onnx) (2.32.3)\n",
            "Requirement already satisfied: six in /usr/local/lib/python3.10/dist-packages (from tf2onnx) (1.17.0)\n",
            "Requirement already satisfied: flatbuffers>=1.12 in /usr/local/lib/python3.10/dist-packages (from tf2onnx) (24.3.25)\n",
            "Collecting protobuf~=3.20 (from tf2onnx)\n",
            "  Downloading protobuf-3.20.3-cp310-cp310-manylinux_2_12_x86_64.manylinux2010_x86_64.whl.metadata (679 bytes)\n",
            "Collecting coloredlogs (from onnxruntime)\n",
            "  Downloading coloredlogs-15.0.1-py2.py3-none-any.whl.metadata (12 kB)\n",
            "Requirement already satisfied: packaging in /usr/local/lib/python3.10/dist-packages (from onnxruntime) (24.2)\n",
            "Requirement already satisfied: sympy in /usr/local/lib/python3.10/dist-packages (from onnxruntime) (1.13.1)\n",
            "Collecting humanfriendly>=9.1 (from coloredlogs->onnxruntime)\n",
            "  Downloading humanfriendly-10.0-py2.py3-none-any.whl.metadata (9.2 kB)\n",
            "Requirement already satisfied: charset-normalizer<4,>=2 in /usr/local/lib/python3.10/dist-packages (from requests->tf2onnx) (3.4.0)\n",
            "Requirement already satisfied: idna<4,>=2.5 in /usr/local/lib/python3.10/dist-packages (from requests->tf2onnx) (3.10)\n",
            "Requirement already satisfied: urllib3<3,>=1.21.1 in /usr/local/lib/python3.10/dist-packages (from requests->tf2onnx) (2.2.3)\n",
            "Requirement already satisfied: certifi>=2017.4.17 in /usr/local/lib/python3.10/dist-packages (from requests->tf2onnx) (2024.8.30)\n",
            "Requirement already satisfied: mpmath<1.4,>=1.1.0 in /usr/local/lib/python3.10/dist-packages (from sympy->onnxruntime) (1.3.0)\n",
            "Downloading tf2onnx-1.16.1-py3-none-any.whl (455 kB)\n",
            "\u001b[2K   \u001b[90m━━━━━━━━━━━━━━━━━━━━━━━━━━━━━━━━━━━━━━━━\u001b[0m \u001b[32m455.8/455.8 kB\u001b[0m \u001b[31m7.2 MB/s\u001b[0m eta \u001b[36m0:00:00\u001b[0m\n",
            "\u001b[?25hDownloading onnxruntime-1.20.1-cp310-cp310-manylinux_2_27_x86_64.manylinux_2_28_x86_64.whl (13.3 MB)\n",
            "\u001b[2K   \u001b[90m━━━━━━━━━━━━━━━━━━━━━━━━━━━━━━━━━━━━━━━━\u001b[0m \u001b[32m13.3/13.3 MB\u001b[0m \u001b[31m74.0 MB/s\u001b[0m eta \u001b[36m0:00:00\u001b[0m\n",
            "\u001b[?25hDownloading netron-8.0.5-py3-none-any.whl (1.8 MB)\n",
            "\u001b[2K   \u001b[90m━━━━━━━━━━━━━━━━━━━━━━━━━━━━━━━━━━━━━━━━\u001b[0m \u001b[32m1.8/1.8 MB\u001b[0m \u001b[31m61.8 MB/s\u001b[0m eta \u001b[36m0:00:00\u001b[0m\n",
            "\u001b[?25hDownloading onnx-1.17.0-cp310-cp310-manylinux_2_17_x86_64.manylinux2014_x86_64.whl (16.0 MB)\n",
            "\u001b[2K   \u001b[90m━━━━━━━━━━━━━━━━━━━━━━━━━━━━━━━━━━━━━━━━\u001b[0m \u001b[32m16.0/16.0 MB\u001b[0m \u001b[31m75.0 MB/s\u001b[0m eta \u001b[36m0:00:00\u001b[0m\n",
            "\u001b[?25hDownloading protobuf-3.20.3-cp310-cp310-manylinux_2_12_x86_64.manylinux2010_x86_64.whl (1.1 MB)\n",
            "\u001b[2K   \u001b[90m━━━━━━━━━━━━━━━━━━━━━━━━━━━━━━━━━━━━━━━━\u001b[0m \u001b[32m1.1/1.1 MB\u001b[0m \u001b[31m51.3 MB/s\u001b[0m eta \u001b[36m0:00:00\u001b[0m\n",
            "\u001b[?25hDownloading coloredlogs-15.0.1-py2.py3-none-any.whl (46 kB)\n",
            "\u001b[2K   \u001b[90m━━━━━━━━━━━━━━━━━━━━━━━━━━━━━━━━━━━━━━━━\u001b[0m \u001b[32m46.0/46.0 kB\u001b[0m \u001b[31m3.3 MB/s\u001b[0m eta \u001b[36m0:00:00\u001b[0m\n",
            "\u001b[?25hDownloading humanfriendly-10.0-py2.py3-none-any.whl (86 kB)\n",
            "\u001b[2K   \u001b[90m━━━━━━━━━━━━━━━━━━━━━━━━━━━━━━━━━━━━━━━━\u001b[0m \u001b[32m86.8/86.8 kB\u001b[0m \u001b[31m7.0 MB/s\u001b[0m eta \u001b[36m0:00:00\u001b[0m\n",
            "\u001b[?25hInstalling collected packages: netron, protobuf, humanfriendly, onnx, coloredlogs, tf2onnx, onnxruntime\n",
            "  Attempting uninstall: protobuf\n",
            "    Found existing installation: protobuf 4.25.5\n",
            "    Uninstalling protobuf-4.25.5:\n",
            "      Successfully uninstalled protobuf-4.25.5\n",
            "\u001b[31mERROR: pip's dependency resolver does not currently take into account all the packages that are installed. This behaviour is the source of the following dependency conflicts.\n",
            "grpcio-status 1.62.3 requires protobuf>=4.21.6, but you have protobuf 3.20.3 which is incompatible.\u001b[0m\u001b[31m\n",
            "\u001b[0mSuccessfully installed coloredlogs-15.0.1 humanfriendly-10.0 netron-8.0.5 onnx-1.17.0 onnxruntime-1.20.1 protobuf-3.20.3 tf2onnx-1.16.1\n"
          ]
        },
        {
          "output_type": "display_data",
          "data": {
            "application/vnd.colab-display-data+json": {
              "pip_warning": {
                "packages": [
                  "google"
                ]
              },
              "id": "bf2219c72e41423584a89eb3304f673a"
            }
          },
          "metadata": {}
        }
      ],
      "source": [
        "!pip install  tf2onnx onnxruntime netron"
      ]
    },
    {
      "cell_type": "code",
      "execution_count": null,
      "metadata": {
        "id": "_aDq6JGTRjUp"
      },
      "outputs": [],
      "source": [
        "import os\n",
        "import tensorflow as tf\n",
        "import pandas as pd\n",
        "import keras\n",
        "from keras import layers\n",
        "import numpy as np\n",
        "import tf2onnx\n",
        "import onnxruntime as rt\n",
        "import netron\n",
        "import random\n",
        "from tensorflow.keras.models import load_model\n",
        "from sklearn.preprocessing import MinMaxScaler"
      ]
    },
    {
      "cell_type": "code",
      "source": [
        "tf.random.set_seed(42)\n",
        "np.random.seed(42)\n",
        "random.seed(42)"
      ],
      "metadata": {
        "id": "EoUFl8h_tkSQ"
      },
      "execution_count": null,
      "outputs": []
    },
    {
      "cell_type": "code",
      "execution_count": null,
      "metadata": {
        "id": "FSoacvF0RjUq"
      },
      "outputs": [],
      "source": [
        "dataframe1 = pd.read_excel('/content/vallen_training_dataset.xlsx')"
      ]
    },
    {
      "cell_type": "code",
      "execution_count": null,
      "metadata": {
        "id": "vNZq6Z0PRjUq",
        "outputId": "bced630e-5fb8-4fb9-a302-eec8fa819079",
        "colab": {
          "base_uri": "https://localhost:8080/"
        },
        "collapsed": true
      },
      "outputs": [
        {
          "output_type": "execute_result",
          "data": {
            "text/plain": [
              "Index(['amplitude', 'duration', 'energy', 'rms', 'rise_time', 'counts',\n",
              "       'label'],\n",
              "      dtype='object')"
            ]
          },
          "metadata": {},
          "execution_count": 5
        }
      ],
      "source": [
        "dataframe1.columns"
      ]
    },
    {
      "cell_type": "code",
      "execution_count": null,
      "metadata": {
        "id": "Tpp9-wn9RjUr",
        "colab": {
          "base_uri": "https://localhost:8080/",
          "height": 423
        },
        "outputId": "f9771829-7545-44a2-b257-498f300ad437"
      },
      "outputs": [
        {
          "output_type": "execute_result",
          "data": {
            "text/plain": [
              "       amplitude  duration       energy       rms  rise_time  counts  label\n",
              "0       0.000125  0.000280    76.227486  0.000005   0.000063       4      0\n",
              "1       0.000183  0.000332   110.221461  0.000006   0.000006       7      0\n",
              "2       0.000356  0.001995  1471.628226  0.000008   0.000132     140      0\n",
              "3       0.000209  0.000446   229.885780  0.000006   0.000417      20      0\n",
              "4       0.000135  0.000270    78.560903  0.000008   0.000007       3      0\n",
              "...          ...       ...          ...       ...        ...     ...    ...\n",
              "27852   0.000501  0.003276  2495.863662  0.000008   0.000236     208      3\n",
              "27853   0.000307  0.001500   673.783913  0.000007   0.000211      78      3\n",
              "27854   0.000282  0.001784  1152.330144  0.000009   0.000295     113      3\n",
              "27855   0.000178  0.000674   337.636269  0.000008   0.000186      42      3\n",
              "27856   0.000167  0.000804   148.877357  0.000009   0.000003       5      3\n",
              "\n",
              "[27857 rows x 7 columns]"
            ],
            "text/html": [
              "\n",
              "  <div id=\"df-cf67967f-eeb9-48cf-aebd-897b03ee5706\" class=\"colab-df-container\">\n",
              "    <div>\n",
              "<style scoped>\n",
              "    .dataframe tbody tr th:only-of-type {\n",
              "        vertical-align: middle;\n",
              "    }\n",
              "\n",
              "    .dataframe tbody tr th {\n",
              "        vertical-align: top;\n",
              "    }\n",
              "\n",
              "    .dataframe thead th {\n",
              "        text-align: right;\n",
              "    }\n",
              "</style>\n",
              "<table border=\"1\" class=\"dataframe\">\n",
              "  <thead>\n",
              "    <tr style=\"text-align: right;\">\n",
              "      <th></th>\n",
              "      <th>amplitude</th>\n",
              "      <th>duration</th>\n",
              "      <th>energy</th>\n",
              "      <th>rms</th>\n",
              "      <th>rise_time</th>\n",
              "      <th>counts</th>\n",
              "      <th>label</th>\n",
              "    </tr>\n",
              "  </thead>\n",
              "  <tbody>\n",
              "    <tr>\n",
              "      <th>0</th>\n",
              "      <td>0.000125</td>\n",
              "      <td>0.000280</td>\n",
              "      <td>76.227486</td>\n",
              "      <td>0.000005</td>\n",
              "      <td>0.000063</td>\n",
              "      <td>4</td>\n",
              "      <td>0</td>\n",
              "    </tr>\n",
              "    <tr>\n",
              "      <th>1</th>\n",
              "      <td>0.000183</td>\n",
              "      <td>0.000332</td>\n",
              "      <td>110.221461</td>\n",
              "      <td>0.000006</td>\n",
              "      <td>0.000006</td>\n",
              "      <td>7</td>\n",
              "      <td>0</td>\n",
              "    </tr>\n",
              "    <tr>\n",
              "      <th>2</th>\n",
              "      <td>0.000356</td>\n",
              "      <td>0.001995</td>\n",
              "      <td>1471.628226</td>\n",
              "      <td>0.000008</td>\n",
              "      <td>0.000132</td>\n",
              "      <td>140</td>\n",
              "      <td>0</td>\n",
              "    </tr>\n",
              "    <tr>\n",
              "      <th>3</th>\n",
              "      <td>0.000209</td>\n",
              "      <td>0.000446</td>\n",
              "      <td>229.885780</td>\n",
              "      <td>0.000006</td>\n",
              "      <td>0.000417</td>\n",
              "      <td>20</td>\n",
              "      <td>0</td>\n",
              "    </tr>\n",
              "    <tr>\n",
              "      <th>4</th>\n",
              "      <td>0.000135</td>\n",
              "      <td>0.000270</td>\n",
              "      <td>78.560903</td>\n",
              "      <td>0.000008</td>\n",
              "      <td>0.000007</td>\n",
              "      <td>3</td>\n",
              "      <td>0</td>\n",
              "    </tr>\n",
              "    <tr>\n",
              "      <th>...</th>\n",
              "      <td>...</td>\n",
              "      <td>...</td>\n",
              "      <td>...</td>\n",
              "      <td>...</td>\n",
              "      <td>...</td>\n",
              "      <td>...</td>\n",
              "      <td>...</td>\n",
              "    </tr>\n",
              "    <tr>\n",
              "      <th>27852</th>\n",
              "      <td>0.000501</td>\n",
              "      <td>0.003276</td>\n",
              "      <td>2495.863662</td>\n",
              "      <td>0.000008</td>\n",
              "      <td>0.000236</td>\n",
              "      <td>208</td>\n",
              "      <td>3</td>\n",
              "    </tr>\n",
              "    <tr>\n",
              "      <th>27853</th>\n",
              "      <td>0.000307</td>\n",
              "      <td>0.001500</td>\n",
              "      <td>673.783913</td>\n",
              "      <td>0.000007</td>\n",
              "      <td>0.000211</td>\n",
              "      <td>78</td>\n",
              "      <td>3</td>\n",
              "    </tr>\n",
              "    <tr>\n",
              "      <th>27854</th>\n",
              "      <td>0.000282</td>\n",
              "      <td>0.001784</td>\n",
              "      <td>1152.330144</td>\n",
              "      <td>0.000009</td>\n",
              "      <td>0.000295</td>\n",
              "      <td>113</td>\n",
              "      <td>3</td>\n",
              "    </tr>\n",
              "    <tr>\n",
              "      <th>27855</th>\n",
              "      <td>0.000178</td>\n",
              "      <td>0.000674</td>\n",
              "      <td>337.636269</td>\n",
              "      <td>0.000008</td>\n",
              "      <td>0.000186</td>\n",
              "      <td>42</td>\n",
              "      <td>3</td>\n",
              "    </tr>\n",
              "    <tr>\n",
              "      <th>27856</th>\n",
              "      <td>0.000167</td>\n",
              "      <td>0.000804</td>\n",
              "      <td>148.877357</td>\n",
              "      <td>0.000009</td>\n",
              "      <td>0.000003</td>\n",
              "      <td>5</td>\n",
              "      <td>3</td>\n",
              "    </tr>\n",
              "  </tbody>\n",
              "</table>\n",
              "<p>27857 rows × 7 columns</p>\n",
              "</div>\n",
              "    <div class=\"colab-df-buttons\">\n",
              "\n",
              "  <div class=\"colab-df-container\">\n",
              "    <button class=\"colab-df-convert\" onclick=\"convertToInteractive('df-cf67967f-eeb9-48cf-aebd-897b03ee5706')\"\n",
              "            title=\"Convert this dataframe to an interactive table.\"\n",
              "            style=\"display:none;\">\n",
              "\n",
              "  <svg xmlns=\"http://www.w3.org/2000/svg\" height=\"24px\" viewBox=\"0 -960 960 960\">\n",
              "    <path d=\"M120-120v-720h720v720H120Zm60-500h600v-160H180v160Zm220 220h160v-160H400v160Zm0 220h160v-160H400v160ZM180-400h160v-160H180v160Zm440 0h160v-160H620v160ZM180-180h160v-160H180v160Zm440 0h160v-160H620v160Z\"/>\n",
              "  </svg>\n",
              "    </button>\n",
              "\n",
              "  <style>\n",
              "    .colab-df-container {\n",
              "      display:flex;\n",
              "      gap: 12px;\n",
              "    }\n",
              "\n",
              "    .colab-df-convert {\n",
              "      background-color: #E8F0FE;\n",
              "      border: none;\n",
              "      border-radius: 50%;\n",
              "      cursor: pointer;\n",
              "      display: none;\n",
              "      fill: #1967D2;\n",
              "      height: 32px;\n",
              "      padding: 0 0 0 0;\n",
              "      width: 32px;\n",
              "    }\n",
              "\n",
              "    .colab-df-convert:hover {\n",
              "      background-color: #E2EBFA;\n",
              "      box-shadow: 0px 1px 2px rgba(60, 64, 67, 0.3), 0px 1px 3px 1px rgba(60, 64, 67, 0.15);\n",
              "      fill: #174EA6;\n",
              "    }\n",
              "\n",
              "    .colab-df-buttons div {\n",
              "      margin-bottom: 4px;\n",
              "    }\n",
              "\n",
              "    [theme=dark] .colab-df-convert {\n",
              "      background-color: #3B4455;\n",
              "      fill: #D2E3FC;\n",
              "    }\n",
              "\n",
              "    [theme=dark] .colab-df-convert:hover {\n",
              "      background-color: #434B5C;\n",
              "      box-shadow: 0px 1px 3px 1px rgba(0, 0, 0, 0.15);\n",
              "      filter: drop-shadow(0px 1px 2px rgba(0, 0, 0, 0.3));\n",
              "      fill: #FFFFFF;\n",
              "    }\n",
              "  </style>\n",
              "\n",
              "    <script>\n",
              "      const buttonEl =\n",
              "        document.querySelector('#df-cf67967f-eeb9-48cf-aebd-897b03ee5706 button.colab-df-convert');\n",
              "      buttonEl.style.display =\n",
              "        google.colab.kernel.accessAllowed ? 'block' : 'none';\n",
              "\n",
              "      async function convertToInteractive(key) {\n",
              "        const element = document.querySelector('#df-cf67967f-eeb9-48cf-aebd-897b03ee5706');\n",
              "        const dataTable =\n",
              "          await google.colab.kernel.invokeFunction('convertToInteractive',\n",
              "                                                    [key], {});\n",
              "        if (!dataTable) return;\n",
              "\n",
              "        const docLinkHtml = 'Like what you see? Visit the ' +\n",
              "          '<a target=\"_blank\" href=https://colab.research.google.com/notebooks/data_table.ipynb>data table notebook</a>'\n",
              "          + ' to learn more about interactive tables.';\n",
              "        element.innerHTML = '';\n",
              "        dataTable['output_type'] = 'display_data';\n",
              "        await google.colab.output.renderOutput(dataTable, element);\n",
              "        const docLink = document.createElement('div');\n",
              "        docLink.innerHTML = docLinkHtml;\n",
              "        element.appendChild(docLink);\n",
              "      }\n",
              "    </script>\n",
              "  </div>\n",
              "\n",
              "\n",
              "<div id=\"df-f7d8727e-ad3e-4017-a472-4cb99d24f588\">\n",
              "  <button class=\"colab-df-quickchart\" onclick=\"quickchart('df-f7d8727e-ad3e-4017-a472-4cb99d24f588')\"\n",
              "            title=\"Suggest charts\"\n",
              "            style=\"display:none;\">\n",
              "\n",
              "<svg xmlns=\"http://www.w3.org/2000/svg\" height=\"24px\"viewBox=\"0 0 24 24\"\n",
              "     width=\"24px\">\n",
              "    <g>\n",
              "        <path d=\"M19 3H5c-1.1 0-2 .9-2 2v14c0 1.1.9 2 2 2h14c1.1 0 2-.9 2-2V5c0-1.1-.9-2-2-2zM9 17H7v-7h2v7zm4 0h-2V7h2v10zm4 0h-2v-4h2v4z\"/>\n",
              "    </g>\n",
              "</svg>\n",
              "  </button>\n",
              "\n",
              "<style>\n",
              "  .colab-df-quickchart {\n",
              "      --bg-color: #E8F0FE;\n",
              "      --fill-color: #1967D2;\n",
              "      --hover-bg-color: #E2EBFA;\n",
              "      --hover-fill-color: #174EA6;\n",
              "      --disabled-fill-color: #AAA;\n",
              "      --disabled-bg-color: #DDD;\n",
              "  }\n",
              "\n",
              "  [theme=dark] .colab-df-quickchart {\n",
              "      --bg-color: #3B4455;\n",
              "      --fill-color: #D2E3FC;\n",
              "      --hover-bg-color: #434B5C;\n",
              "      --hover-fill-color: #FFFFFF;\n",
              "      --disabled-bg-color: #3B4455;\n",
              "      --disabled-fill-color: #666;\n",
              "  }\n",
              "\n",
              "  .colab-df-quickchart {\n",
              "    background-color: var(--bg-color);\n",
              "    border: none;\n",
              "    border-radius: 50%;\n",
              "    cursor: pointer;\n",
              "    display: none;\n",
              "    fill: var(--fill-color);\n",
              "    height: 32px;\n",
              "    padding: 0;\n",
              "    width: 32px;\n",
              "  }\n",
              "\n",
              "  .colab-df-quickchart:hover {\n",
              "    background-color: var(--hover-bg-color);\n",
              "    box-shadow: 0 1px 2px rgba(60, 64, 67, 0.3), 0 1px 3px 1px rgba(60, 64, 67, 0.15);\n",
              "    fill: var(--button-hover-fill-color);\n",
              "  }\n",
              "\n",
              "  .colab-df-quickchart-complete:disabled,\n",
              "  .colab-df-quickchart-complete:disabled:hover {\n",
              "    background-color: var(--disabled-bg-color);\n",
              "    fill: var(--disabled-fill-color);\n",
              "    box-shadow: none;\n",
              "  }\n",
              "\n",
              "  .colab-df-spinner {\n",
              "    border: 2px solid var(--fill-color);\n",
              "    border-color: transparent;\n",
              "    border-bottom-color: var(--fill-color);\n",
              "    animation:\n",
              "      spin 1s steps(1) infinite;\n",
              "  }\n",
              "\n",
              "  @keyframes spin {\n",
              "    0% {\n",
              "      border-color: transparent;\n",
              "      border-bottom-color: var(--fill-color);\n",
              "      border-left-color: var(--fill-color);\n",
              "    }\n",
              "    20% {\n",
              "      border-color: transparent;\n",
              "      border-left-color: var(--fill-color);\n",
              "      border-top-color: var(--fill-color);\n",
              "    }\n",
              "    30% {\n",
              "      border-color: transparent;\n",
              "      border-left-color: var(--fill-color);\n",
              "      border-top-color: var(--fill-color);\n",
              "      border-right-color: var(--fill-color);\n",
              "    }\n",
              "    40% {\n",
              "      border-color: transparent;\n",
              "      border-right-color: var(--fill-color);\n",
              "      border-top-color: var(--fill-color);\n",
              "    }\n",
              "    60% {\n",
              "      border-color: transparent;\n",
              "      border-right-color: var(--fill-color);\n",
              "    }\n",
              "    80% {\n",
              "      border-color: transparent;\n",
              "      border-right-color: var(--fill-color);\n",
              "      border-bottom-color: var(--fill-color);\n",
              "    }\n",
              "    90% {\n",
              "      border-color: transparent;\n",
              "      border-bottom-color: var(--fill-color);\n",
              "    }\n",
              "  }\n",
              "</style>\n",
              "\n",
              "  <script>\n",
              "    async function quickchart(key) {\n",
              "      const quickchartButtonEl =\n",
              "        document.querySelector('#' + key + ' button');\n",
              "      quickchartButtonEl.disabled = true;  // To prevent multiple clicks.\n",
              "      quickchartButtonEl.classList.add('colab-df-spinner');\n",
              "      try {\n",
              "        const charts = await google.colab.kernel.invokeFunction(\n",
              "            'suggestCharts', [key], {});\n",
              "      } catch (error) {\n",
              "        console.error('Error during call to suggestCharts:', error);\n",
              "      }\n",
              "      quickchartButtonEl.classList.remove('colab-df-spinner');\n",
              "      quickchartButtonEl.classList.add('colab-df-quickchart-complete');\n",
              "    }\n",
              "    (() => {\n",
              "      let quickchartButtonEl =\n",
              "        document.querySelector('#df-f7d8727e-ad3e-4017-a472-4cb99d24f588 button');\n",
              "      quickchartButtonEl.style.display =\n",
              "        google.colab.kernel.accessAllowed ? 'block' : 'none';\n",
              "    })();\n",
              "  </script>\n",
              "</div>\n",
              "\n",
              "  <div id=\"id_ce3d2488-2437-40e3-b52f-7cfb2c8b1e94\">\n",
              "    <style>\n",
              "      .colab-df-generate {\n",
              "        background-color: #E8F0FE;\n",
              "        border: none;\n",
              "        border-radius: 50%;\n",
              "        cursor: pointer;\n",
              "        display: none;\n",
              "        fill: #1967D2;\n",
              "        height: 32px;\n",
              "        padding: 0 0 0 0;\n",
              "        width: 32px;\n",
              "      }\n",
              "\n",
              "      .colab-df-generate:hover {\n",
              "        background-color: #E2EBFA;\n",
              "        box-shadow: 0px 1px 2px rgba(60, 64, 67, 0.3), 0px 1px 3px 1px rgba(60, 64, 67, 0.15);\n",
              "        fill: #174EA6;\n",
              "      }\n",
              "\n",
              "      [theme=dark] .colab-df-generate {\n",
              "        background-color: #3B4455;\n",
              "        fill: #D2E3FC;\n",
              "      }\n",
              "\n",
              "      [theme=dark] .colab-df-generate:hover {\n",
              "        background-color: #434B5C;\n",
              "        box-shadow: 0px 1px 3px 1px rgba(0, 0, 0, 0.15);\n",
              "        filter: drop-shadow(0px 1px 2px rgba(0, 0, 0, 0.3));\n",
              "        fill: #FFFFFF;\n",
              "      }\n",
              "    </style>\n",
              "    <button class=\"colab-df-generate\" onclick=\"generateWithVariable('dataframe1')\"\n",
              "            title=\"Generate code using this dataframe.\"\n",
              "            style=\"display:none;\">\n",
              "\n",
              "  <svg xmlns=\"http://www.w3.org/2000/svg\" height=\"24px\"viewBox=\"0 0 24 24\"\n",
              "       width=\"24px\">\n",
              "    <path d=\"M7,19H8.4L18.45,9,17,7.55,7,17.6ZM5,21V16.75L18.45,3.32a2,2,0,0,1,2.83,0l1.4,1.43a1.91,1.91,0,0,1,.58,1.4,1.91,1.91,0,0,1-.58,1.4L9.25,21ZM18.45,9,17,7.55Zm-12,3A5.31,5.31,0,0,0,4.9,8.1,5.31,5.31,0,0,0,1,6.5,5.31,5.31,0,0,0,4.9,4.9,5.31,5.31,0,0,0,6.5,1,5.31,5.31,0,0,0,8.1,4.9,5.31,5.31,0,0,0,12,6.5,5.46,5.46,0,0,0,6.5,12Z\"/>\n",
              "  </svg>\n",
              "    </button>\n",
              "    <script>\n",
              "      (() => {\n",
              "      const buttonEl =\n",
              "        document.querySelector('#id_ce3d2488-2437-40e3-b52f-7cfb2c8b1e94 button.colab-df-generate');\n",
              "      buttonEl.style.display =\n",
              "        google.colab.kernel.accessAllowed ? 'block' : 'none';\n",
              "\n",
              "      buttonEl.onclick = () => {\n",
              "        google.colab.notebook.generateWithVariable('dataframe1');\n",
              "      }\n",
              "      })();\n",
              "    </script>\n",
              "  </div>\n",
              "\n",
              "    </div>\n",
              "  </div>\n"
            ],
            "application/vnd.google.colaboratory.intrinsic+json": {
              "type": "dataframe",
              "variable_name": "dataframe1",
              "summary": "{\n  \"name\": \"dataframe1\",\n  \"rows\": 27857,\n  \"fields\": [\n    {\n      \"column\": \"amplitude\",\n      \"properties\": {\n        \"dtype\": \"number\",\n        \"std\": 0.001553828964379665,\n        \"min\": 0.000101992,\n        \"max\": 0.030381353,\n        \"num_unique_values\": 2516,\n        \"samples\": [\n          0.000103514,\n          0.000669796,\n          0.001167577\n        ],\n        \"semantic_type\": \"\",\n        \"description\": \"\"\n      }\n    },\n    {\n      \"column\": \"duration\",\n      \"properties\": {\n        \"dtype\": \"number\",\n        \"std\": 0.004299277852075161,\n        \"min\": 0.0002,\n        \"max\": 0.1048576,\n        \"num_unique_values\": 16274,\n        \"samples\": [\n          0.0010932,\n          0.0068153,\n          0.0035728\n        ],\n        \"semantic_type\": \"\",\n        \"description\": \"\"\n      }\n    },\n    {\n      \"column\": \"energy\",\n      \"properties\": {\n        \"dtype\": \"number\",\n        \"std\": 181529.31097847034,\n        \"min\": 40.53456806,\n        \"max\": 7250093.443,\n        \"num_unique_values\": 20915,\n        \"samples\": [\n          190276.3593,\n          199567.7203,\n          50244.78139\n        ],\n        \"semantic_type\": \"\",\n        \"description\": \"\"\n      }\n    },\n    {\n      \"column\": \"rms\",\n      \"properties\": {\n        \"dtype\": \"number\",\n        \"std\": 3.6491391467761624e-06,\n        \"min\": 4.9e-06,\n        \"max\": 2.19e-05,\n        \"num_unique_values\": 629,\n        \"samples\": [\n          5e-06,\n          1.84e-05,\n          8.43e-06\n        ],\n        \"semantic_type\": \"\",\n        \"description\": \"\"\n      }\n    },\n    {\n      \"column\": \"rise_time\",\n      \"properties\": {\n        \"dtype\": \"number\",\n        \"std\": 0.0013910945550316986,\n        \"min\": 1e-07,\n        \"max\": 0.0386875,\n        \"num_unique_values\": 6772,\n        \"samples\": [\n          0.0002367,\n          5.2e-05,\n          0.0006935\n        ],\n        \"semantic_type\": \"\",\n        \"description\": \"\"\n      }\n    },\n    {\n      \"column\": \"counts\",\n      \"properties\": {\n        \"dtype\": \"number\",\n        \"std\": 534,\n        \"min\": 0,\n        \"max\": 16026,\n        \"num_unique_values\": 1614,\n        \"samples\": [\n          521,\n          1119,\n          765\n        ],\n        \"semantic_type\": \"\",\n        \"description\": \"\"\n      }\n    },\n    {\n      \"column\": \"label\",\n      \"properties\": {\n        \"dtype\": \"number\",\n        \"std\": 1,\n        \"min\": 0,\n        \"max\": 3,\n        \"num_unique_values\": 4,\n        \"samples\": [\n          1,\n          3,\n          0\n        ],\n        \"semantic_type\": \"\",\n        \"description\": \"\"\n      }\n    }\n  ]\n}"
            }
          },
          "metadata": {},
          "execution_count": 6
        }
      ],
      "source": [
        "dataframe1"
      ]
    },
    {
      "cell_type": "code",
      "source": [
        "dataframe2=dataframe1.drop(['label'], axis='columns')\n"
      ],
      "metadata": {
        "id": "4wAR2vuDWTly"
      },
      "execution_count": null,
      "outputs": []
    },
    {
      "cell_type": "code",
      "source": [
        "values = dataframe2.values\n",
        "values = values.astype('float32')\n",
        "scaler = MinMaxScaler(feature_range=(0, 1))\n",
        "scaled = scaler.fit_transform(values)"
      ],
      "metadata": {
        "id": "iE13L1wt3j3T"
      },
      "execution_count": null,
      "outputs": []
    },
    {
      "cell_type": "code",
      "source": [
        "dataframe = pd.DataFrame({'amplitude': scaled[:, 0], 'duration': scaled[:, 1],'energy': scaled[:, 2],'rms': scaled[:, 3],'rise_time': scaled[:, 4],'counts': scaled[:, 5]})"
      ],
      "metadata": {
        "id": "PQ0A9Etg5EHj"
      },
      "execution_count": null,
      "outputs": []
    },
    {
      "cell_type": "code",
      "source": [
        "dataframe ['label']=dataframe1['label']"
      ],
      "metadata": {
        "id": "yGeaquBv6Kwc"
      },
      "execution_count": null,
      "outputs": []
    },
    {
      "cell_type": "code",
      "source": [
        "dataframe"
      ],
      "metadata": {
        "colab": {
          "base_uri": "https://localhost:8080/",
          "height": 423
        },
        "id": "-obC62L_4jZ8",
        "outputId": "0730297c-3aeb-43d2-bd4c-e1a2af8301f0"
      },
      "execution_count": null,
      "outputs": [
        {
          "output_type": "execute_result",
          "data": {
            "text/plain": [
              "       amplitude  duration    energy       rms  rise_time    counts  label\n",
              "0       0.000754  0.000769  0.000005  0.025294   0.001631  0.000250      0\n",
              "1       0.002665  0.001265  0.000010  0.065882   0.000142  0.000437      0\n",
              "2       0.008396  0.017155  0.000197  0.182353   0.003407  0.008736      0\n",
              "3       0.003519  0.002350  0.000026  0.071765   0.010768  0.001248      0\n",
              "4       0.001106  0.000671  0.000005  0.182353   0.000178  0.000187      0\n",
              "...          ...       ...       ...       ...        ...       ...    ...\n",
              "27852   0.013172  0.029389  0.000339  0.160588   0.006095  0.012979      3\n",
              "27853   0.006787  0.012422  0.000087  0.115294   0.005459  0.004867      3\n",
              "27854   0.005932  0.015131  0.000153  0.236471   0.007617  0.007051      3\n",
              "27855   0.002514  0.004533  0.000041  0.182353   0.004813  0.002621      3\n",
              "27856   0.002162  0.005768  0.000015  0.232941   0.000067  0.000312      3\n",
              "\n",
              "[27857 rows x 7 columns]"
            ],
            "text/html": [
              "\n",
              "  <div id=\"df-114e2f37-8372-4a6d-9959-1eedca688389\" class=\"colab-df-container\">\n",
              "    <div>\n",
              "<style scoped>\n",
              "    .dataframe tbody tr th:only-of-type {\n",
              "        vertical-align: middle;\n",
              "    }\n",
              "\n",
              "    .dataframe tbody tr th {\n",
              "        vertical-align: top;\n",
              "    }\n",
              "\n",
              "    .dataframe thead th {\n",
              "        text-align: right;\n",
              "    }\n",
              "</style>\n",
              "<table border=\"1\" class=\"dataframe\">\n",
              "  <thead>\n",
              "    <tr style=\"text-align: right;\">\n",
              "      <th></th>\n",
              "      <th>amplitude</th>\n",
              "      <th>duration</th>\n",
              "      <th>energy</th>\n",
              "      <th>rms</th>\n",
              "      <th>rise_time</th>\n",
              "      <th>counts</th>\n",
              "      <th>label</th>\n",
              "    </tr>\n",
              "  </thead>\n",
              "  <tbody>\n",
              "    <tr>\n",
              "      <th>0</th>\n",
              "      <td>0.000754</td>\n",
              "      <td>0.000769</td>\n",
              "      <td>0.000005</td>\n",
              "      <td>0.025294</td>\n",
              "      <td>0.001631</td>\n",
              "      <td>0.000250</td>\n",
              "      <td>0</td>\n",
              "    </tr>\n",
              "    <tr>\n",
              "      <th>1</th>\n",
              "      <td>0.002665</td>\n",
              "      <td>0.001265</td>\n",
              "      <td>0.000010</td>\n",
              "      <td>0.065882</td>\n",
              "      <td>0.000142</td>\n",
              "      <td>0.000437</td>\n",
              "      <td>0</td>\n",
              "    </tr>\n",
              "    <tr>\n",
              "      <th>2</th>\n",
              "      <td>0.008396</td>\n",
              "      <td>0.017155</td>\n",
              "      <td>0.000197</td>\n",
              "      <td>0.182353</td>\n",
              "      <td>0.003407</td>\n",
              "      <td>0.008736</td>\n",
              "      <td>0</td>\n",
              "    </tr>\n",
              "    <tr>\n",
              "      <th>3</th>\n",
              "      <td>0.003519</td>\n",
              "      <td>0.002350</td>\n",
              "      <td>0.000026</td>\n",
              "      <td>0.071765</td>\n",
              "      <td>0.010768</td>\n",
              "      <td>0.001248</td>\n",
              "      <td>0</td>\n",
              "    </tr>\n",
              "    <tr>\n",
              "      <th>4</th>\n",
              "      <td>0.001106</td>\n",
              "      <td>0.000671</td>\n",
              "      <td>0.000005</td>\n",
              "      <td>0.182353</td>\n",
              "      <td>0.000178</td>\n",
              "      <td>0.000187</td>\n",
              "      <td>0</td>\n",
              "    </tr>\n",
              "    <tr>\n",
              "      <th>...</th>\n",
              "      <td>...</td>\n",
              "      <td>...</td>\n",
              "      <td>...</td>\n",
              "      <td>...</td>\n",
              "      <td>...</td>\n",
              "      <td>...</td>\n",
              "      <td>...</td>\n",
              "    </tr>\n",
              "    <tr>\n",
              "      <th>27852</th>\n",
              "      <td>0.013172</td>\n",
              "      <td>0.029389</td>\n",
              "      <td>0.000339</td>\n",
              "      <td>0.160588</td>\n",
              "      <td>0.006095</td>\n",
              "      <td>0.012979</td>\n",
              "      <td>3</td>\n",
              "    </tr>\n",
              "    <tr>\n",
              "      <th>27853</th>\n",
              "      <td>0.006787</td>\n",
              "      <td>0.012422</td>\n",
              "      <td>0.000087</td>\n",
              "      <td>0.115294</td>\n",
              "      <td>0.005459</td>\n",
              "      <td>0.004867</td>\n",
              "      <td>3</td>\n",
              "    </tr>\n",
              "    <tr>\n",
              "      <th>27854</th>\n",
              "      <td>0.005932</td>\n",
              "      <td>0.015131</td>\n",
              "      <td>0.000153</td>\n",
              "      <td>0.236471</td>\n",
              "      <td>0.007617</td>\n",
              "      <td>0.007051</td>\n",
              "      <td>3</td>\n",
              "    </tr>\n",
              "    <tr>\n",
              "      <th>27855</th>\n",
              "      <td>0.002514</td>\n",
              "      <td>0.004533</td>\n",
              "      <td>0.000041</td>\n",
              "      <td>0.182353</td>\n",
              "      <td>0.004813</td>\n",
              "      <td>0.002621</td>\n",
              "      <td>3</td>\n",
              "    </tr>\n",
              "    <tr>\n",
              "      <th>27856</th>\n",
              "      <td>0.002162</td>\n",
              "      <td>0.005768</td>\n",
              "      <td>0.000015</td>\n",
              "      <td>0.232941</td>\n",
              "      <td>0.000067</td>\n",
              "      <td>0.000312</td>\n",
              "      <td>3</td>\n",
              "    </tr>\n",
              "  </tbody>\n",
              "</table>\n",
              "<p>27857 rows × 7 columns</p>\n",
              "</div>\n",
              "    <div class=\"colab-df-buttons\">\n",
              "\n",
              "  <div class=\"colab-df-container\">\n",
              "    <button class=\"colab-df-convert\" onclick=\"convertToInteractive('df-114e2f37-8372-4a6d-9959-1eedca688389')\"\n",
              "            title=\"Convert this dataframe to an interactive table.\"\n",
              "            style=\"display:none;\">\n",
              "\n",
              "  <svg xmlns=\"http://www.w3.org/2000/svg\" height=\"24px\" viewBox=\"0 -960 960 960\">\n",
              "    <path d=\"M120-120v-720h720v720H120Zm60-500h600v-160H180v160Zm220 220h160v-160H400v160Zm0 220h160v-160H400v160ZM180-400h160v-160H180v160Zm440 0h160v-160H620v160ZM180-180h160v-160H180v160Zm440 0h160v-160H620v160Z\"/>\n",
              "  </svg>\n",
              "    </button>\n",
              "\n",
              "  <style>\n",
              "    .colab-df-container {\n",
              "      display:flex;\n",
              "      gap: 12px;\n",
              "    }\n",
              "\n",
              "    .colab-df-convert {\n",
              "      background-color: #E8F0FE;\n",
              "      border: none;\n",
              "      border-radius: 50%;\n",
              "      cursor: pointer;\n",
              "      display: none;\n",
              "      fill: #1967D2;\n",
              "      height: 32px;\n",
              "      padding: 0 0 0 0;\n",
              "      width: 32px;\n",
              "    }\n",
              "\n",
              "    .colab-df-convert:hover {\n",
              "      background-color: #E2EBFA;\n",
              "      box-shadow: 0px 1px 2px rgba(60, 64, 67, 0.3), 0px 1px 3px 1px rgba(60, 64, 67, 0.15);\n",
              "      fill: #174EA6;\n",
              "    }\n",
              "\n",
              "    .colab-df-buttons div {\n",
              "      margin-bottom: 4px;\n",
              "    }\n",
              "\n",
              "    [theme=dark] .colab-df-convert {\n",
              "      background-color: #3B4455;\n",
              "      fill: #D2E3FC;\n",
              "    }\n",
              "\n",
              "    [theme=dark] .colab-df-convert:hover {\n",
              "      background-color: #434B5C;\n",
              "      box-shadow: 0px 1px 3px 1px rgba(0, 0, 0, 0.15);\n",
              "      filter: drop-shadow(0px 1px 2px rgba(0, 0, 0, 0.3));\n",
              "      fill: #FFFFFF;\n",
              "    }\n",
              "  </style>\n",
              "\n",
              "    <script>\n",
              "      const buttonEl =\n",
              "        document.querySelector('#df-114e2f37-8372-4a6d-9959-1eedca688389 button.colab-df-convert');\n",
              "      buttonEl.style.display =\n",
              "        google.colab.kernel.accessAllowed ? 'block' : 'none';\n",
              "\n",
              "      async function convertToInteractive(key) {\n",
              "        const element = document.querySelector('#df-114e2f37-8372-4a6d-9959-1eedca688389');\n",
              "        const dataTable =\n",
              "          await google.colab.kernel.invokeFunction('convertToInteractive',\n",
              "                                                    [key], {});\n",
              "        if (!dataTable) return;\n",
              "\n",
              "        const docLinkHtml = 'Like what you see? Visit the ' +\n",
              "          '<a target=\"_blank\" href=https://colab.research.google.com/notebooks/data_table.ipynb>data table notebook</a>'\n",
              "          + ' to learn more about interactive tables.';\n",
              "        element.innerHTML = '';\n",
              "        dataTable['output_type'] = 'display_data';\n",
              "        await google.colab.output.renderOutput(dataTable, element);\n",
              "        const docLink = document.createElement('div');\n",
              "        docLink.innerHTML = docLinkHtml;\n",
              "        element.appendChild(docLink);\n",
              "      }\n",
              "    </script>\n",
              "  </div>\n",
              "\n",
              "\n",
              "<div id=\"df-744b1319-7197-4fa3-8fba-05d397995570\">\n",
              "  <button class=\"colab-df-quickchart\" onclick=\"quickchart('df-744b1319-7197-4fa3-8fba-05d397995570')\"\n",
              "            title=\"Suggest charts\"\n",
              "            style=\"display:none;\">\n",
              "\n",
              "<svg xmlns=\"http://www.w3.org/2000/svg\" height=\"24px\"viewBox=\"0 0 24 24\"\n",
              "     width=\"24px\">\n",
              "    <g>\n",
              "        <path d=\"M19 3H5c-1.1 0-2 .9-2 2v14c0 1.1.9 2 2 2h14c1.1 0 2-.9 2-2V5c0-1.1-.9-2-2-2zM9 17H7v-7h2v7zm4 0h-2V7h2v10zm4 0h-2v-4h2v4z\"/>\n",
              "    </g>\n",
              "</svg>\n",
              "  </button>\n",
              "\n",
              "<style>\n",
              "  .colab-df-quickchart {\n",
              "      --bg-color: #E8F0FE;\n",
              "      --fill-color: #1967D2;\n",
              "      --hover-bg-color: #E2EBFA;\n",
              "      --hover-fill-color: #174EA6;\n",
              "      --disabled-fill-color: #AAA;\n",
              "      --disabled-bg-color: #DDD;\n",
              "  }\n",
              "\n",
              "  [theme=dark] .colab-df-quickchart {\n",
              "      --bg-color: #3B4455;\n",
              "      --fill-color: #D2E3FC;\n",
              "      --hover-bg-color: #434B5C;\n",
              "      --hover-fill-color: #FFFFFF;\n",
              "      --disabled-bg-color: #3B4455;\n",
              "      --disabled-fill-color: #666;\n",
              "  }\n",
              "\n",
              "  .colab-df-quickchart {\n",
              "    background-color: var(--bg-color);\n",
              "    border: none;\n",
              "    border-radius: 50%;\n",
              "    cursor: pointer;\n",
              "    display: none;\n",
              "    fill: var(--fill-color);\n",
              "    height: 32px;\n",
              "    padding: 0;\n",
              "    width: 32px;\n",
              "  }\n",
              "\n",
              "  .colab-df-quickchart:hover {\n",
              "    background-color: var(--hover-bg-color);\n",
              "    box-shadow: 0 1px 2px rgba(60, 64, 67, 0.3), 0 1px 3px 1px rgba(60, 64, 67, 0.15);\n",
              "    fill: var(--button-hover-fill-color);\n",
              "  }\n",
              "\n",
              "  .colab-df-quickchart-complete:disabled,\n",
              "  .colab-df-quickchart-complete:disabled:hover {\n",
              "    background-color: var(--disabled-bg-color);\n",
              "    fill: var(--disabled-fill-color);\n",
              "    box-shadow: none;\n",
              "  }\n",
              "\n",
              "  .colab-df-spinner {\n",
              "    border: 2px solid var(--fill-color);\n",
              "    border-color: transparent;\n",
              "    border-bottom-color: var(--fill-color);\n",
              "    animation:\n",
              "      spin 1s steps(1) infinite;\n",
              "  }\n",
              "\n",
              "  @keyframes spin {\n",
              "    0% {\n",
              "      border-color: transparent;\n",
              "      border-bottom-color: var(--fill-color);\n",
              "      border-left-color: var(--fill-color);\n",
              "    }\n",
              "    20% {\n",
              "      border-color: transparent;\n",
              "      border-left-color: var(--fill-color);\n",
              "      border-top-color: var(--fill-color);\n",
              "    }\n",
              "    30% {\n",
              "      border-color: transparent;\n",
              "      border-left-color: var(--fill-color);\n",
              "      border-top-color: var(--fill-color);\n",
              "      border-right-color: var(--fill-color);\n",
              "    }\n",
              "    40% {\n",
              "      border-color: transparent;\n",
              "      border-right-color: var(--fill-color);\n",
              "      border-top-color: var(--fill-color);\n",
              "    }\n",
              "    60% {\n",
              "      border-color: transparent;\n",
              "      border-right-color: var(--fill-color);\n",
              "    }\n",
              "    80% {\n",
              "      border-color: transparent;\n",
              "      border-right-color: var(--fill-color);\n",
              "      border-bottom-color: var(--fill-color);\n",
              "    }\n",
              "    90% {\n",
              "      border-color: transparent;\n",
              "      border-bottom-color: var(--fill-color);\n",
              "    }\n",
              "  }\n",
              "</style>\n",
              "\n",
              "  <script>\n",
              "    async function quickchart(key) {\n",
              "      const quickchartButtonEl =\n",
              "        document.querySelector('#' + key + ' button');\n",
              "      quickchartButtonEl.disabled = true;  // To prevent multiple clicks.\n",
              "      quickchartButtonEl.classList.add('colab-df-spinner');\n",
              "      try {\n",
              "        const charts = await google.colab.kernel.invokeFunction(\n",
              "            'suggestCharts', [key], {});\n",
              "      } catch (error) {\n",
              "        console.error('Error during call to suggestCharts:', error);\n",
              "      }\n",
              "      quickchartButtonEl.classList.remove('colab-df-spinner');\n",
              "      quickchartButtonEl.classList.add('colab-df-quickchart-complete');\n",
              "    }\n",
              "    (() => {\n",
              "      let quickchartButtonEl =\n",
              "        document.querySelector('#df-744b1319-7197-4fa3-8fba-05d397995570 button');\n",
              "      quickchartButtonEl.style.display =\n",
              "        google.colab.kernel.accessAllowed ? 'block' : 'none';\n",
              "    })();\n",
              "  </script>\n",
              "</div>\n",
              "\n",
              "  <div id=\"id_9a227609-f090-4775-9bf8-784f56e680d9\">\n",
              "    <style>\n",
              "      .colab-df-generate {\n",
              "        background-color: #E8F0FE;\n",
              "        border: none;\n",
              "        border-radius: 50%;\n",
              "        cursor: pointer;\n",
              "        display: none;\n",
              "        fill: #1967D2;\n",
              "        height: 32px;\n",
              "        padding: 0 0 0 0;\n",
              "        width: 32px;\n",
              "      }\n",
              "\n",
              "      .colab-df-generate:hover {\n",
              "        background-color: #E2EBFA;\n",
              "        box-shadow: 0px 1px 2px rgba(60, 64, 67, 0.3), 0px 1px 3px 1px rgba(60, 64, 67, 0.15);\n",
              "        fill: #174EA6;\n",
              "      }\n",
              "\n",
              "      [theme=dark] .colab-df-generate {\n",
              "        background-color: #3B4455;\n",
              "        fill: #D2E3FC;\n",
              "      }\n",
              "\n",
              "      [theme=dark] .colab-df-generate:hover {\n",
              "        background-color: #434B5C;\n",
              "        box-shadow: 0px 1px 3px 1px rgba(0, 0, 0, 0.15);\n",
              "        filter: drop-shadow(0px 1px 2px rgba(0, 0, 0, 0.3));\n",
              "        fill: #FFFFFF;\n",
              "      }\n",
              "    </style>\n",
              "    <button class=\"colab-df-generate\" onclick=\"generateWithVariable('dataframe')\"\n",
              "            title=\"Generate code using this dataframe.\"\n",
              "            style=\"display:none;\">\n",
              "\n",
              "  <svg xmlns=\"http://www.w3.org/2000/svg\" height=\"24px\"viewBox=\"0 0 24 24\"\n",
              "       width=\"24px\">\n",
              "    <path d=\"M7,19H8.4L18.45,9,17,7.55,7,17.6ZM5,21V16.75L18.45,3.32a2,2,0,0,1,2.83,0l1.4,1.43a1.91,1.91,0,0,1,.58,1.4,1.91,1.91,0,0,1-.58,1.4L9.25,21ZM18.45,9,17,7.55Zm-12,3A5.31,5.31,0,0,0,4.9,8.1,5.31,5.31,0,0,0,1,6.5,5.31,5.31,0,0,0,4.9,4.9,5.31,5.31,0,0,0,6.5,1,5.31,5.31,0,0,0,8.1,4.9,5.31,5.31,0,0,0,12,6.5,5.46,5.46,0,0,0,6.5,12Z\"/>\n",
              "  </svg>\n",
              "    </button>\n",
              "    <script>\n",
              "      (() => {\n",
              "      const buttonEl =\n",
              "        document.querySelector('#id_9a227609-f090-4775-9bf8-784f56e680d9 button.colab-df-generate');\n",
              "      buttonEl.style.display =\n",
              "        google.colab.kernel.accessAllowed ? 'block' : 'none';\n",
              "\n",
              "      buttonEl.onclick = () => {\n",
              "        google.colab.notebook.generateWithVariable('dataframe');\n",
              "      }\n",
              "      })();\n",
              "    </script>\n",
              "  </div>\n",
              "\n",
              "    </div>\n",
              "  </div>\n"
            ],
            "application/vnd.google.colaboratory.intrinsic+json": {
              "type": "dataframe",
              "variable_name": "dataframe",
              "summary": "{\n  \"name\": \"dataframe\",\n  \"rows\": 27857,\n  \"fields\": [\n    {\n      \"column\": \"amplitude\",\n      \"properties\": {\n        \"dtype\": \"float32\",\n        \"num_unique_values\": 2516,\n        \"samples\": [\n          5.026510916650295e-05,\n          0.01875218003988266,\n          0.035191792994737625\n        ],\n        \"semantic_type\": \"\",\n        \"description\": \"\"\n      }\n    },\n    {\n      \"column\": \"duration\",\n      \"properties\": {\n        \"dtype\": \"float32\",\n        \"num_unique_values\": 16274,\n        \"samples\": [\n          0.008534496650099754,\n          0.06320898234844208,\n          0.03222699835896492\n        ],\n        \"semantic_type\": \"\",\n        \"description\": \"\"\n      }\n    },\n    {\n      \"column\": \"energy\",\n      \"properties\": {\n        \"dtype\": \"float32\",\n        \"num_unique_values\": 20915,\n        \"samples\": [\n          0.02623923309147358,\n          0.027520790696144104,\n          0.0069246734492480755\n        ],\n        \"semantic_type\": \"\",\n        \"description\": \"\"\n      }\n    },\n    {\n      \"column\": \"rms\",\n      \"properties\": {\n        \"dtype\": \"float32\",\n        \"num_unique_values\": 629,\n        \"samples\": [\n          0.005882322788238525,\n          0.7941176891326904,\n          0.20764705538749695\n        ],\n        \"semantic_type\": \"\",\n        \"description\": \"\"\n      }\n    },\n    {\n      \"column\": \"rise_time\",\n      \"properties\": {\n        \"dtype\": \"float32\",\n        \"num_unique_values\": 6772,\n        \"samples\": [\n          0.006115686148405075,\n          0.0013415220892056823,\n          0.017923148348927498\n        ],\n        \"semantic_type\": \"\",\n        \"description\": \"\"\n      }\n    },\n    {\n      \"column\": \"counts\",\n      \"properties\": {\n        \"dtype\": \"float32\",\n        \"num_unique_values\": 1614,\n        \"samples\": [\n          0.03250967338681221,\n          0.06982403993606567,\n          0.04773493483662605\n        ],\n        \"semantic_type\": \"\",\n        \"description\": \"\"\n      }\n    },\n    {\n      \"column\": \"label\",\n      \"properties\": {\n        \"dtype\": \"number\",\n        \"std\": 1,\n        \"min\": 0,\n        \"max\": 3,\n        \"num_unique_values\": 4,\n        \"samples\": [\n          1,\n          3,\n          0\n        ],\n        \"semantic_type\": \"\",\n        \"description\": \"\"\n      }\n    }\n  ]\n}"
            }
          },
          "metadata": {},
          "execution_count": 11
        }
      ]
    },
    {
      "cell_type": "code",
      "execution_count": null,
      "metadata": {
        "id": "obu0o18uRjUr",
        "colab": {
          "base_uri": "https://localhost:8080/"
        },
        "outputId": "a245372d-6835-434e-9eaa-f9563a4a4b1d"
      },
      "outputs": [
        {
          "output_type": "stream",
          "name": "stdout",
          "text": [
            "and 5571 for validation\n"
          ]
        }
      ],
      "source": [
        "val_dataframe = dataframe.sample(frac=0.2, random_state=1337)\n",
        "train_dataframe = dataframe.drop(val_dataframe.index)\n",
        "\n",
        "print(\n",
        "    # f\"Using {len(train_dataframe)} samples for training \"\n",
        "    f\"and {len(val_dataframe)} for validation\"\n",
        ")"
      ]
    },
    {
      "cell_type": "code",
      "execution_count": null,
      "metadata": {
        "id": "JLlnet5kRjUr"
      },
      "outputs": [],
      "source": [
        "\n",
        "def dataframe_to_dataset(dataframe):\n",
        "    dataframe = dataframe.copy()\n",
        "    labels = dataframe.pop(\"label\")\n",
        "    ds = tf.data.Dataset.from_tensor_slices((dict(dataframe), labels))\n",
        "    ds = ds.shuffle(buffer_size=len(dataframe))\n",
        "    return ds\n",
        "\n",
        "\n",
        "train_ds = dataframe_to_dataset(train_dataframe)\n",
        "val_ds = dataframe_to_dataset(val_dataframe)"
      ]
    },
    {
      "cell_type": "code",
      "execution_count": null,
      "metadata": {
        "id": "GZT_XAfTRjUs"
      },
      "outputs": [],
      "source": [
        "train_ds = train_ds.batch(32)\n",
        "val_ds = val_ds.batch(32)"
      ]
    },
    {
      "cell_type": "markdown",
      "source": [
        "don\"t run"
      ],
      "metadata": {
        "id": "FK2jZJoQ6yCV"
      }
    },
    {
      "cell_type": "code",
      "execution_count": null,
      "metadata": {
        "id": "EJHy7V_TRjUs"
      },
      "outputs": [],
      "source": [
        "\n",
        "def encode_numerical_feature(feature, name, dataset):\n",
        "    # Create a Normalization layer for our feature\n",
        "    normalizer = layers.Normalization()\n",
        "\n",
        "    # Prepare a Dataset that only yields our feature\n",
        "    feature_ds = dataset.map(lambda x, y: x[name])\n",
        "    feature_ds = feature_ds.map(lambda x: tf.expand_dims(x, -1))\n",
        "\n",
        "    # Learn the statistics of the data\n",
        "    normalizer.adapt(feature_ds)\n",
        "\n",
        "    # Normalize the input feature\n",
        "    encoded_feature = normalizer(feature)\n",
        "    return encoded_feature\n"
      ]
    },
    {
      "cell_type": "code",
      "execution_count": null,
      "metadata": {
        "id": "ZVpLCtkORjUs"
      },
      "outputs": [],
      "source": [
        "\n",
        "# Numerical features\n",
        "counts = keras.Input(shape=(1,), name=\"counts\")\n",
        "amplitude = keras.Input(shape=(1,), name=\"amplitude\")\n",
        "duration = keras.Input(shape=(1,), name=\"duration\")\n",
        "energy = keras.Input(shape=(1,), name=\"energy\")\n",
        "rms = keras.Input(shape=(1,), name=\"rms\")\n",
        "rise_time = keras.Input(shape=(1,), name=\"rise_time\")\n",
        "'''\n",
        "all_inputs = [\n",
        "    amplitude,\n",
        "    rms,\n",
        "    counts,\n",
        "\n",
        "    duration,\n",
        "    energy,\n",
        "    rise_time\n",
        "\n",
        "]\n",
        "\n",
        "# Numerical features\n",
        "counts_encoded = encode_numerical_feature(counts, \"counts\", train_ds)\n",
        "amplitude_encoded = encode_numerical_feature(amplitude, \"amplitude\", train_ds)\n",
        "duration_encoded = encode_numerical_feature(duration, \"duration\", train_ds)\n",
        "energy_encoded = encode_numerical_feature(energy, \"energy\", train_ds)\n",
        "rms_encoded = encode_numerical_feature(rms, \"rms\", train_ds)\n",
        "rise_time = encode_numerical_feature(rise_time, \"rise_time\", train_ds)\n",
        "\n",
        "all_features = layers.concatenate(\n",
        "    [\n",
        "        amplitude_encoded,\n",
        "        duration_encoded,\n",
        "        energy_encoded,\n",
        "        rms_encoded,\n",
        "        rise_time,\n",
        "        counts_encoded\n",
        "\n",
        "    ]\n",
        ")\n",
        "\n",
        "'''\n",
        "all_inputs1= layers.concatenate ( [\n",
        "      amplitude,\n",
        "     duration,\n",
        "     energy,\n",
        "     rms,\n",
        "     rise_time,\n",
        "     counts\n",
        "\n",
        "\n",
        "\n",
        "])\n",
        "x = layers.Dense(512, activation=\"relu\")(all_inputs1)\n",
        "x = layers.BatchNormalization()(x)\n",
        "x = layers.Dense(256, activation=\"relu\")(x)\n",
        "x = layers.BatchNormalization()(x)\n",
        "x = layers.Dense(128, activation=\"relu\")(x)\n",
        "x = layers.Dropout(0.1)(x)\n",
        "\n",
        "output = layers.Dense(4, activation=\"softmax\",name=\"results\")(x)\n",
        "model = keras.Model(inputs=[counts, amplitude, duration, energy, rms, rise_time], outputs=output)\n",
        "model.compile(optimizer=keras.optimizers.Adam(learning_rate=0.0001), loss=\"sparse_categorical_crossentropy\", metrics=[\"accuracy\"])"
      ]
    },
    {
      "cell_type": "code",
      "execution_count": null,
      "metadata": {
        "id": "DlSt6MzLRjUt",
        "colab": {
          "base_uri": "https://localhost:8080/"
        },
        "outputId": "a7108b0c-4855-4139-ae26-5de10fdf0576"
      },
      "outputs": [
        {
          "output_type": "stream",
          "name": "stdout",
          "text": [
            "Epoch 1/200\n",
            "\u001b[1m697/697\u001b[0m \u001b[32m━━━━━━━━━━━━━━━━━━━━\u001b[0m\u001b[37m\u001b[0m \u001b[1m8s\u001b[0m 7ms/step - accuracy: 0.3770 - loss: 1.2880 - val_accuracy: 0.4062 - val_loss: 1.2238\n",
            "Epoch 2/200\n",
            "\u001b[1m697/697\u001b[0m \u001b[32m━━━━━━━━━━━━━━━━━━━━\u001b[0m\u001b[37m\u001b[0m \u001b[1m4s\u001b[0m 6ms/step - accuracy: 0.3976 - loss: 1.2388 - val_accuracy: 0.3908 - val_loss: 1.2297\n",
            "Epoch 3/200\n",
            "\u001b[1m697/697\u001b[0m \u001b[32m━━━━━━━━━━━━━━━━━━━━\u001b[0m\u001b[37m\u001b[0m \u001b[1m6s\u001b[0m 9ms/step - accuracy: 0.4118 - loss: 1.2173 - val_accuracy: 0.4048 - val_loss: 1.2245\n",
            "Epoch 4/200\n",
            "\u001b[1m697/697\u001b[0m \u001b[32m━━━━━━━━━━━━━━━━━━━━\u001b[0m\u001b[37m\u001b[0m \u001b[1m8s\u001b[0m 6ms/step - accuracy: 0.4070 - loss: 1.2189 - val_accuracy: 0.3931 - val_loss: 1.1963\n",
            "Epoch 5/200\n",
            "\u001b[1m697/697\u001b[0m \u001b[32m━━━━━━━━━━━━━━━━━━━━\u001b[0m\u001b[37m\u001b[0m \u001b[1m7s\u001b[0m 9ms/step - accuracy: 0.4118 - loss: 1.2041 - val_accuracy: 0.4107 - val_loss: 1.1961\n",
            "Epoch 6/200\n",
            "\u001b[1m697/697\u001b[0m \u001b[32m━━━━━━━━━━━━━━━━━━━━\u001b[0m\u001b[37m\u001b[0m \u001b[1m5s\u001b[0m 6ms/step - accuracy: 0.4079 - loss: 1.2071 - val_accuracy: 0.4116 - val_loss: 1.2039\n",
            "Epoch 7/200\n",
            "\u001b[1m697/697\u001b[0m \u001b[32m━━━━━━━━━━━━━━━━━━━━\u001b[0m\u001b[37m\u001b[0m \u001b[1m7s\u001b[0m 8ms/step - accuracy: 0.4078 - loss: 1.2024 - val_accuracy: 0.4159 - val_loss: 1.1936\n",
            "Epoch 8/200\n",
            "\u001b[1m697/697\u001b[0m \u001b[32m━━━━━━━━━━━━━━━━━━━━\u001b[0m\u001b[37m\u001b[0m \u001b[1m5s\u001b[0m 7ms/step - accuracy: 0.4201 - loss: 1.1970 - val_accuracy: 0.4048 - val_loss: 1.1938\n",
            "Epoch 9/200\n",
            "\u001b[1m697/697\u001b[0m \u001b[32m━━━━━━━━━━━━━━━━━━━━\u001b[0m\u001b[37m\u001b[0m \u001b[1m5s\u001b[0m 6ms/step - accuracy: 0.4134 - loss: 1.2002 - val_accuracy: 0.4094 - val_loss: 1.1885\n",
            "Epoch 10/200\n",
            "\u001b[1m697/697\u001b[0m \u001b[32m━━━━━━━━━━━━━━━━━━━━\u001b[0m\u001b[37m\u001b[0m \u001b[1m6s\u001b[0m 9ms/step - accuracy: 0.4148 - loss: 1.1941 - val_accuracy: 0.4173 - val_loss: 1.1932\n",
            "Epoch 11/200\n",
            "\u001b[1m697/697\u001b[0m \u001b[32m━━━━━━━━━━━━━━━━━━━━\u001b[0m\u001b[37m\u001b[0m \u001b[1m5s\u001b[0m 6ms/step - accuracy: 0.4233 - loss: 1.1879 - val_accuracy: 0.4215 - val_loss: 1.1857\n",
            "Epoch 12/200\n",
            "\u001b[1m697/697\u001b[0m \u001b[32m━━━━━━━━━━━━━━━━━━━━\u001b[0m\u001b[37m\u001b[0m \u001b[1m9s\u001b[0m 12ms/step - accuracy: 0.4201 - loss: 1.1896 - val_accuracy: 0.4231 - val_loss: 1.1837\n",
            "Epoch 13/200\n",
            "\u001b[1m697/697\u001b[0m \u001b[32m━━━━━━━━━━━━━━━━━━━━\u001b[0m\u001b[37m\u001b[0m \u001b[1m6s\u001b[0m 6ms/step - accuracy: 0.4277 - loss: 1.1888 - val_accuracy: 0.4215 - val_loss: 1.1789\n",
            "Epoch 14/200\n",
            "\u001b[1m697/697\u001b[0m \u001b[32m━━━━━━━━━━━━━━━━━━━━\u001b[0m\u001b[37m\u001b[0m \u001b[1m6s\u001b[0m 8ms/step - accuracy: 0.4148 - loss: 1.1951 - val_accuracy: 0.4216 - val_loss: 1.1796\n",
            "Epoch 15/200\n",
            "\u001b[1m697/697\u001b[0m \u001b[32m━━━━━━━━━━━━━━━━━━━━\u001b[0m\u001b[37m\u001b[0m \u001b[1m9s\u001b[0m 6ms/step - accuracy: 0.4255 - loss: 1.1804 - val_accuracy: 0.4191 - val_loss: 1.1787\n",
            "Epoch 16/200\n",
            "\u001b[1m697/697\u001b[0m \u001b[32m━━━━━━━━━━━━━━━━━━━━\u001b[0m\u001b[37m\u001b[0m \u001b[1m7s\u001b[0m 9ms/step - accuracy: 0.4213 - loss: 1.1879 - val_accuracy: 0.3976 - val_loss: 1.1843\n",
            "Epoch 17/200\n",
            "\u001b[1m697/697\u001b[0m \u001b[32m━━━━━━━━━━━━━━━━━━━━\u001b[0m\u001b[37m\u001b[0m \u001b[1m9s\u001b[0m 6ms/step - accuracy: 0.4183 - loss: 1.1847 - val_accuracy: 0.4229 - val_loss: 1.1789\n",
            "Epoch 18/200\n",
            "\u001b[1m697/697\u001b[0m \u001b[32m━━━━━━━━━━━━━━━━━━━━\u001b[0m\u001b[37m\u001b[0m \u001b[1m6s\u001b[0m 8ms/step - accuracy: 0.4242 - loss: 1.1729 - val_accuracy: 0.4204 - val_loss: 1.1808\n",
            "Epoch 19/200\n",
            "\u001b[1m697/697\u001b[0m \u001b[32m━━━━━━━━━━━━━━━━━━━━\u001b[0m\u001b[37m\u001b[0m \u001b[1m11s\u001b[0m 8ms/step - accuracy: 0.4197 - loss: 1.1839 - val_accuracy: 0.4154 - val_loss: 1.1782\n",
            "Epoch 20/200\n",
            "\u001b[1m697/697\u001b[0m \u001b[32m━━━━━━━━━━━━━━━━━━━━\u001b[0m\u001b[37m\u001b[0m \u001b[1m9s\u001b[0m 7ms/step - accuracy: 0.4279 - loss: 1.1788 - val_accuracy: 0.4132 - val_loss: 1.1805\n",
            "Epoch 21/200\n",
            "\u001b[1m697/697\u001b[0m \u001b[32m━━━━━━━━━━━━━━━━━━━━\u001b[0m\u001b[37m\u001b[0m \u001b[1m7s\u001b[0m 9ms/step - accuracy: 0.4269 - loss: 1.1783 - val_accuracy: 0.4137 - val_loss: 1.1803\n",
            "Epoch 22/200\n",
            "\u001b[1m697/697\u001b[0m \u001b[32m━━━━━━━━━━━━━━━━━━━━\u001b[0m\u001b[37m\u001b[0m \u001b[1m8s\u001b[0m 6ms/step - accuracy: 0.4205 - loss: 1.1815 - val_accuracy: 0.4168 - val_loss: 1.1714\n",
            "Epoch 23/200\n",
            "\u001b[1m697/697\u001b[0m \u001b[32m━━━━━━━━━━━━━━━━━━━━\u001b[0m\u001b[37m\u001b[0m \u001b[1m6s\u001b[0m 9ms/step - accuracy: 0.4280 - loss: 1.1800 - val_accuracy: 0.4195 - val_loss: 1.1794\n",
            "Epoch 24/200\n",
            "\u001b[1m697/697\u001b[0m \u001b[32m━━━━━━━━━━━━━━━━━━━━\u001b[0m\u001b[37m\u001b[0m \u001b[1m4s\u001b[0m 6ms/step - accuracy: 0.4246 - loss: 1.1849 - val_accuracy: 0.4150 - val_loss: 1.1749\n",
            "Epoch 25/200\n",
            "\u001b[1m697/697\u001b[0m \u001b[32m━━━━━━━━━━━━━━━━━━━━\u001b[0m\u001b[37m\u001b[0m \u001b[1m5s\u001b[0m 7ms/step - accuracy: 0.4309 - loss: 1.1754 - val_accuracy: 0.4195 - val_loss: 1.1738\n",
            "Epoch 26/200\n",
            "\u001b[1m697/697\u001b[0m \u001b[32m━━━━━━━━━━━━━━━━━━━━\u001b[0m\u001b[37m\u001b[0m \u001b[1m10s\u001b[0m 7ms/step - accuracy: 0.4314 - loss: 1.1789 - val_accuracy: 0.4179 - val_loss: 1.1721\n",
            "Epoch 27/200\n",
            "\u001b[1m697/697\u001b[0m \u001b[32m━━━━━━━━━━━━━━━━━━━━\u001b[0m\u001b[37m\u001b[0m \u001b[1m6s\u001b[0m 8ms/step - accuracy: 0.4220 - loss: 1.1787 - val_accuracy: 0.4041 - val_loss: 1.1824\n",
            "Epoch 28/200\n",
            "\u001b[1m697/697\u001b[0m \u001b[32m━━━━━━━━━━━━━━━━━━━━\u001b[0m\u001b[37m\u001b[0m \u001b[1m9s\u001b[0m 6ms/step - accuracy: 0.4228 - loss: 1.1807 - val_accuracy: 0.4064 - val_loss: 1.1894\n",
            "Epoch 29/200\n",
            "\u001b[1m697/697\u001b[0m \u001b[32m━━━━━━━━━━━━━━━━━━━━\u001b[0m\u001b[37m\u001b[0m \u001b[1m7s\u001b[0m 9ms/step - accuracy: 0.4240 - loss: 1.1772 - val_accuracy: 0.4032 - val_loss: 1.1800\n",
            "Epoch 30/200\n",
            "\u001b[1m697/697\u001b[0m \u001b[32m━━━━━━━━━━━━━━━━━━━━\u001b[0m\u001b[37m\u001b[0m \u001b[1m4s\u001b[0m 6ms/step - accuracy: 0.4234 - loss: 1.1771 - val_accuracy: 0.4125 - val_loss: 1.1762\n",
            "Epoch 31/200\n",
            "\u001b[1m697/697\u001b[0m \u001b[32m━━━━━━━━━━━━━━━━━━━━\u001b[0m\u001b[37m\u001b[0m \u001b[1m7s\u001b[0m 9ms/step - accuracy: 0.4328 - loss: 1.1724 - val_accuracy: 0.4177 - val_loss: 1.1704\n",
            "Epoch 32/200\n",
            "\u001b[1m697/697\u001b[0m \u001b[32m━━━━━━━━━━━━━━━━━━━━\u001b[0m\u001b[37m\u001b[0m \u001b[1m5s\u001b[0m 6ms/step - accuracy: 0.4216 - loss: 1.1813 - val_accuracy: 0.4270 - val_loss: 1.1694\n",
            "Epoch 33/200\n",
            "\u001b[1m697/697\u001b[0m \u001b[32m━━━━━━━━━━━━━━━━━━━━\u001b[0m\u001b[37m\u001b[0m \u001b[1m5s\u001b[0m 7ms/step - accuracy: 0.4290 - loss: 1.1749 - val_accuracy: 0.4190 - val_loss: 1.1727\n",
            "Epoch 34/200\n",
            "\u001b[1m697/697\u001b[0m \u001b[32m━━━━━━━━━━━━━━━━━━━━\u001b[0m\u001b[37m\u001b[0m \u001b[1m6s\u001b[0m 8ms/step - accuracy: 0.4213 - loss: 1.1848 - val_accuracy: 0.4310 - val_loss: 1.1740\n",
            "Epoch 35/200\n",
            "\u001b[1m697/697\u001b[0m \u001b[32m━━━━━━━━━━━━━━━━━━━━\u001b[0m\u001b[37m\u001b[0m \u001b[1m5s\u001b[0m 7ms/step - accuracy: 0.4282 - loss: 1.1838 - val_accuracy: 0.4242 - val_loss: 1.1687\n",
            "Epoch 36/200\n",
            "\u001b[1m697/697\u001b[0m \u001b[32m━━━━━━━━━━━━━━━━━━━━\u001b[0m\u001b[37m\u001b[0m \u001b[1m6s\u001b[0m 9ms/step - accuracy: 0.4279 - loss: 1.1733 - val_accuracy: 0.4227 - val_loss: 1.1670\n",
            "Epoch 37/200\n",
            "\u001b[1m697/697\u001b[0m \u001b[32m━━━━━━━━━━━━━━━━━━━━\u001b[0m\u001b[37m\u001b[0m \u001b[1m9s\u001b[0m 7ms/step - accuracy: 0.4268 - loss: 1.1734 - val_accuracy: 0.4220 - val_loss: 1.1696\n",
            "Epoch 38/200\n",
            "\u001b[1m697/697\u001b[0m \u001b[32m━━━━━━━━━━━━━━━━━━━━\u001b[0m\u001b[37m\u001b[0m \u001b[1m6s\u001b[0m 9ms/step - accuracy: 0.4342 - loss: 1.1721 - val_accuracy: 0.4231 - val_loss: 1.1670\n",
            "Epoch 39/200\n",
            "\u001b[1m697/697\u001b[0m \u001b[32m━━━━━━━━━━━━━━━━━━━━\u001b[0m\u001b[37m\u001b[0m \u001b[1m5s\u001b[0m 7ms/step - accuracy: 0.4318 - loss: 1.1718 - val_accuracy: 0.4075 - val_loss: 1.1924\n",
            "Epoch 40/200\n",
            "\u001b[1m697/697\u001b[0m \u001b[32m━━━━━━━━━━━━━━━━━━━━\u001b[0m\u001b[37m\u001b[0m \u001b[1m5s\u001b[0m 7ms/step - accuracy: 0.4190 - loss: 1.1702 - val_accuracy: 0.4218 - val_loss: 1.1736\n",
            "Epoch 41/200\n",
            "\u001b[1m697/697\u001b[0m \u001b[32m━━━━━━━━━━━━━━━━━━━━\u001b[0m\u001b[37m\u001b[0m \u001b[1m6s\u001b[0m 8ms/step - accuracy: 0.4373 - loss: 1.1728 - val_accuracy: 0.4146 - val_loss: 1.1726\n",
            "Epoch 42/200\n",
            "\u001b[1m697/697\u001b[0m \u001b[32m━━━━━━━━━━━━━━━━━━━━\u001b[0m\u001b[37m\u001b[0m \u001b[1m5s\u001b[0m 7ms/step - accuracy: 0.4215 - loss: 1.1784 - val_accuracy: 0.4136 - val_loss: 1.1766\n",
            "Epoch 43/200\n",
            "\u001b[1m697/697\u001b[0m \u001b[32m━━━━━━━━━━━━━━━━━━━━\u001b[0m\u001b[37m\u001b[0m \u001b[1m6s\u001b[0m 9ms/step - accuracy: 0.4306 - loss: 1.1604 - val_accuracy: 0.4143 - val_loss: 1.1757\n",
            "Epoch 44/200\n",
            "\u001b[1m697/697\u001b[0m \u001b[32m━━━━━━━━━━━━━━━━━━━━\u001b[0m\u001b[37m\u001b[0m \u001b[1m9s\u001b[0m 7ms/step - accuracy: 0.4301 - loss: 1.1719 - val_accuracy: 0.4199 - val_loss: 1.1693\n",
            "Epoch 45/200\n",
            "\u001b[1m697/697\u001b[0m \u001b[32m━━━━━━━━━━━━━━━━━━━━\u001b[0m\u001b[37m\u001b[0m \u001b[1m6s\u001b[0m 9ms/step - accuracy: 0.4284 - loss: 1.1657 - val_accuracy: 0.4242 - val_loss: 1.1649\n",
            "Epoch 46/200\n",
            "\u001b[1m697/697\u001b[0m \u001b[32m━━━━━━━━━━━━━━━━━━━━\u001b[0m\u001b[37m\u001b[0m \u001b[1m9s\u001b[0m 7ms/step - accuracy: 0.4311 - loss: 1.1664 - val_accuracy: 0.4213 - val_loss: 1.1693\n",
            "Epoch 47/200\n",
            "\u001b[1m697/697\u001b[0m \u001b[32m━━━━━━━━━━━━━━━━━━━━\u001b[0m\u001b[37m\u001b[0m \u001b[1m6s\u001b[0m 8ms/step - accuracy: 0.4334 - loss: 1.1655 - val_accuracy: 0.4202 - val_loss: 1.1797\n",
            "Epoch 48/200\n",
            "\u001b[1m697/697\u001b[0m \u001b[32m━━━━━━━━━━━━━━━━━━━━\u001b[0m\u001b[37m\u001b[0m \u001b[1m5s\u001b[0m 6ms/step - accuracy: 0.4213 - loss: 1.1783 - val_accuracy: 0.4164 - val_loss: 1.1679\n",
            "Epoch 49/200\n",
            "\u001b[1m697/697\u001b[0m \u001b[32m━━━━━━━━━━━━━━━━━━━━\u001b[0m\u001b[37m\u001b[0m \u001b[1m7s\u001b[0m 9ms/step - accuracy: 0.4274 - loss: 1.1698 - val_accuracy: 0.4188 - val_loss: 1.1756\n",
            "Epoch 50/200\n",
            "\u001b[1m697/697\u001b[0m \u001b[32m━━━━━━━━━━━━━━━━━━━━\u001b[0m\u001b[37m\u001b[0m \u001b[1m4s\u001b[0m 6ms/step - accuracy: 0.4325 - loss: 1.1649 - val_accuracy: 0.4120 - val_loss: 1.1667\n",
            "Epoch 51/200\n",
            "\u001b[1m697/697\u001b[0m \u001b[32m━━━━━━━━━━━━━━━━━━━━\u001b[0m\u001b[37m\u001b[0m \u001b[1m5s\u001b[0m 7ms/step - accuracy: 0.4245 - loss: 1.1652 - val_accuracy: 0.4152 - val_loss: 1.1676\n",
            "Epoch 52/200\n",
            "\u001b[1m697/697\u001b[0m \u001b[32m━━━━━━━━━━━━━━━━━━━━\u001b[0m\u001b[37m\u001b[0m \u001b[1m6s\u001b[0m 9ms/step - accuracy: 0.4373 - loss: 1.1648 - val_accuracy: 0.4166 - val_loss: 1.1698\n",
            "Epoch 53/200\n",
            "\u001b[1m697/697\u001b[0m \u001b[32m━━━━━━━━━━━━━━━━━━━━\u001b[0m\u001b[37m\u001b[0m \u001b[1m9s\u001b[0m 7ms/step - accuracy: 0.4318 - loss: 1.1637 - val_accuracy: 0.4143 - val_loss: 1.1674\n",
            "Epoch 54/200\n",
            "\u001b[1m697/697\u001b[0m \u001b[32m━━━━━━━━━━━━━━━━━━━━\u001b[0m\u001b[37m\u001b[0m \u001b[1m10s\u001b[0m 7ms/step - accuracy: 0.4329 - loss: 1.1673 - val_accuracy: 0.4078 - val_loss: 1.1757\n",
            "Epoch 55/200\n",
            "\u001b[1m697/697\u001b[0m \u001b[32m━━━━━━━━━━━━━━━━━━━━\u001b[0m\u001b[37m\u001b[0m \u001b[1m6s\u001b[0m 9ms/step - accuracy: 0.4354 - loss: 1.1638 - val_accuracy: 0.4197 - val_loss: 1.1773\n",
            "Epoch 56/200\n",
            "\u001b[1m697/697\u001b[0m \u001b[32m━━━━━━━━━━━━━━━━━━━━\u001b[0m\u001b[37m\u001b[0m \u001b[1m9s\u001b[0m 7ms/step - accuracy: 0.4282 - loss: 1.1672 - val_accuracy: 0.4195 - val_loss: 1.1734\n",
            "Epoch 57/200\n",
            "\u001b[1m697/697\u001b[0m \u001b[32m━━━━━━━━━━━━━━━━━━━━\u001b[0m\u001b[37m\u001b[0m \u001b[1m6s\u001b[0m 9ms/step - accuracy: 0.4368 - loss: 1.1621 - val_accuracy: 0.4186 - val_loss: 1.1683\n",
            "Epoch 58/200\n",
            "\u001b[1m697/697\u001b[0m \u001b[32m━━━━━━━━━━━━━━━━━━━━\u001b[0m\u001b[37m\u001b[0m \u001b[1m9s\u001b[0m 8ms/step - accuracy: 0.4345 - loss: 1.1638 - val_accuracy: 0.4175 - val_loss: 1.1699\n",
            "Epoch 59/200\n",
            "\u001b[1m697/697\u001b[0m \u001b[32m━━━━━━━━━━━━━━━━━━━━\u001b[0m\u001b[37m\u001b[0m \u001b[1m6s\u001b[0m 8ms/step - accuracy: 0.4367 - loss: 1.1612 - val_accuracy: 0.4222 - val_loss: 1.1696\n",
            "Epoch 60/200\n",
            "\u001b[1m697/697\u001b[0m \u001b[32m━━━━━━━━━━━━━━━━━━━━\u001b[0m\u001b[37m\u001b[0m \u001b[1m10s\u001b[0m 8ms/step - accuracy: 0.4421 - loss: 1.1585 - val_accuracy: 0.4199 - val_loss: 1.1676\n",
            "Epoch 61/200\n",
            "\u001b[1m697/697\u001b[0m \u001b[32m━━━━━━━━━━━━━━━━━━━━\u001b[0m\u001b[37m\u001b[0m \u001b[1m5s\u001b[0m 7ms/step - accuracy: 0.4352 - loss: 1.1643 - val_accuracy: 0.4051 - val_loss: 1.1793\n",
            "Epoch 62/200\n",
            "\u001b[1m697/697\u001b[0m \u001b[32m━━━━━━━━━━━━━━━━━━━━\u001b[0m\u001b[37m\u001b[0m \u001b[1m5s\u001b[0m 7ms/step - accuracy: 0.4335 - loss: 1.1592 - val_accuracy: 0.4100 - val_loss: 1.1689\n",
            "Epoch 63/200\n",
            "\u001b[1m697/697\u001b[0m \u001b[32m━━━━━━━━━━━━━━━━━━━━\u001b[0m\u001b[37m\u001b[0m \u001b[1m6s\u001b[0m 8ms/step - accuracy: 0.4337 - loss: 1.1651 - val_accuracy: 0.4154 - val_loss: 1.1672\n",
            "Epoch 64/200\n",
            "\u001b[1m697/697\u001b[0m \u001b[32m━━━━━━━━━━━━━━━━━━━━\u001b[0m\u001b[37m\u001b[0m \u001b[1m5s\u001b[0m 6ms/step - accuracy: 0.4321 - loss: 1.1591 - val_accuracy: 0.4216 - val_loss: 1.1700\n",
            "Epoch 65/200\n",
            "\u001b[1m697/697\u001b[0m \u001b[32m━━━━━━━━━━━━━━━━━━━━\u001b[0m\u001b[37m\u001b[0m \u001b[1m6s\u001b[0m 9ms/step - accuracy: 0.4389 - loss: 1.1567 - val_accuracy: 0.4105 - val_loss: 1.1694\n",
            "Epoch 66/200\n",
            "\u001b[1m697/697\u001b[0m \u001b[32m━━━━━━━━━━━━━━━━━━━━\u001b[0m\u001b[37m\u001b[0m \u001b[1m5s\u001b[0m 6ms/step - accuracy: 0.4304 - loss: 1.1654 - val_accuracy: 0.4166 - val_loss: 1.1648\n",
            "Epoch 67/200\n",
            "\u001b[1m697/697\u001b[0m \u001b[32m━━━━━━━━━━━━━━━━━━━━\u001b[0m\u001b[37m\u001b[0m \u001b[1m5s\u001b[0m 7ms/step - accuracy: 0.4303 - loss: 1.1700 - val_accuracy: 0.4105 - val_loss: 1.1691\n",
            "Epoch 68/200\n",
            "\u001b[1m697/697\u001b[0m \u001b[32m━━━━━━━━━━━━━━━━━━━━\u001b[0m\u001b[37m\u001b[0m \u001b[1m6s\u001b[0m 8ms/step - accuracy: 0.4372 - loss: 1.1595 - val_accuracy: 0.4130 - val_loss: 1.1686\n",
            "Epoch 69/200\n",
            "\u001b[1m697/697\u001b[0m \u001b[32m━━━━━━━━━━━━━━━━━━━━\u001b[0m\u001b[37m\u001b[0m \u001b[1m5s\u001b[0m 7ms/step - accuracy: 0.4400 - loss: 1.1553 - val_accuracy: 0.4191 - val_loss: 1.1668\n",
            "Epoch 70/200\n",
            "\u001b[1m697/697\u001b[0m \u001b[32m━━━━━━━━━━━━━━━━━━━━\u001b[0m\u001b[37m\u001b[0m \u001b[1m6s\u001b[0m 9ms/step - accuracy: 0.4350 - loss: 1.1570 - val_accuracy: 0.4096 - val_loss: 1.1679\n",
            "Epoch 71/200\n",
            "\u001b[1m697/697\u001b[0m \u001b[32m━━━━━━━━━━━━━━━━━━━━\u001b[0m\u001b[37m\u001b[0m \u001b[1m9s\u001b[0m 7ms/step - accuracy: 0.4411 - loss: 1.1552 - val_accuracy: 0.4161 - val_loss: 1.1655\n",
            "Epoch 72/200\n",
            "\u001b[1m697/697\u001b[0m \u001b[32m━━━━━━━━━━━━━━━━━━━━\u001b[0m\u001b[37m\u001b[0m \u001b[1m7s\u001b[0m 9ms/step - accuracy: 0.4347 - loss: 1.1633 - val_accuracy: 0.4208 - val_loss: 1.1633\n",
            "Epoch 73/200\n",
            "\u001b[1m697/697\u001b[0m \u001b[32m━━━━━━━━━━━━━━━━━━━━\u001b[0m\u001b[37m\u001b[0m \u001b[1m5s\u001b[0m 7ms/step - accuracy: 0.4354 - loss: 1.1545 - val_accuracy: 0.4199 - val_loss: 1.1618\n",
            "Epoch 74/200\n",
            "\u001b[1m697/697\u001b[0m \u001b[32m━━━━━━━━━━━━━━━━━━━━\u001b[0m\u001b[37m\u001b[0m \u001b[1m5s\u001b[0m 7ms/step - accuracy: 0.4323 - loss: 1.1604 - val_accuracy: 0.4155 - val_loss: 1.1727\n",
            "Epoch 75/200\n",
            "\u001b[1m697/697\u001b[0m \u001b[32m━━━━━━━━━━━━━━━━━━━━\u001b[0m\u001b[37m\u001b[0m \u001b[1m10s\u001b[0m 7ms/step - accuracy: 0.4274 - loss: 1.1619 - val_accuracy: 0.4202 - val_loss: 1.1656\n",
            "Epoch 76/200\n",
            "\u001b[1m697/697\u001b[0m \u001b[32m━━━━━━━━━━━━━━━━━━━━\u001b[0m\u001b[37m\u001b[0m \u001b[1m6s\u001b[0m 9ms/step - accuracy: 0.4340 - loss: 1.1581 - val_accuracy: 0.4173 - val_loss: 1.1670\n",
            "Epoch 77/200\n",
            "\u001b[1m697/697\u001b[0m \u001b[32m━━━━━━━━━━━━━━━━━━━━\u001b[0m\u001b[37m\u001b[0m \u001b[1m5s\u001b[0m 7ms/step - accuracy: 0.4343 - loss: 1.1613 - val_accuracy: 0.4216 - val_loss: 1.1641\n",
            "Epoch 78/200\n",
            "\u001b[1m697/697\u001b[0m \u001b[32m━━━━━━━━━━━━━━━━━━━━\u001b[0m\u001b[37m\u001b[0m \u001b[1m5s\u001b[0m 7ms/step - accuracy: 0.4377 - loss: 1.1518 - val_accuracy: 0.4163 - val_loss: 1.1633\n",
            "Epoch 79/200\n",
            "\u001b[1m697/697\u001b[0m \u001b[32m━━━━━━━━━━━━━━━━━━━━\u001b[0m\u001b[37m\u001b[0m \u001b[1m6s\u001b[0m 8ms/step - accuracy: 0.4302 - loss: 1.1608 - val_accuracy: 0.4157 - val_loss: 1.1648\n",
            "Epoch 80/200\n",
            "\u001b[1m697/697\u001b[0m \u001b[32m━━━━━━━━━━━━━━━━━━━━\u001b[0m\u001b[37m\u001b[0m \u001b[1m5s\u001b[0m 7ms/step - accuracy: 0.4349 - loss: 1.1607 - val_accuracy: 0.4148 - val_loss: 1.1656\n",
            "Epoch 81/200\n",
            "\u001b[1m697/697\u001b[0m \u001b[32m━━━━━━━━━━━━━━━━━━━━\u001b[0m\u001b[37m\u001b[0m \u001b[1m6s\u001b[0m 9ms/step - accuracy: 0.4388 - loss: 1.1573 - val_accuracy: 0.4197 - val_loss: 1.1655\n",
            "Epoch 82/200\n",
            "\u001b[1m697/697\u001b[0m \u001b[32m━━━━━━━━━━━━━━━━━━━━\u001b[0m\u001b[37m\u001b[0m \u001b[1m8s\u001b[0m 6ms/step - accuracy: 0.4381 - loss: 1.1622 - val_accuracy: 0.4184 - val_loss: 1.1656\n",
            "Epoch 83/200\n",
            "\u001b[1m697/697\u001b[0m \u001b[32m━━━━━━━━━━━━━━━━━━━━\u001b[0m\u001b[37m\u001b[0m \u001b[1m7s\u001b[0m 9ms/step - accuracy: 0.4395 - loss: 1.1567 - val_accuracy: 0.4152 - val_loss: 1.1636\n",
            "Epoch 84/200\n",
            "\u001b[1m697/697\u001b[0m \u001b[32m━━━━━━━━━━━━━━━━━━━━\u001b[0m\u001b[37m\u001b[0m \u001b[1m5s\u001b[0m 6ms/step - accuracy: 0.4349 - loss: 1.1578 - val_accuracy: 0.4195 - val_loss: 1.1627\n",
            "Epoch 85/200\n",
            "\u001b[1m697/697\u001b[0m \u001b[32m━━━━━━━━━━━━━━━━━━━━\u001b[0m\u001b[37m\u001b[0m \u001b[1m5s\u001b[0m 8ms/step - accuracy: 0.4406 - loss: 1.1542 - val_accuracy: 0.4172 - val_loss: 1.1624\n",
            "Epoch 86/200\n",
            "\u001b[1m697/697\u001b[0m \u001b[32m━━━━━━━━━━━━━━━━━━━━\u001b[0m\u001b[37m\u001b[0m \u001b[1m9s\u001b[0m 7ms/step - accuracy: 0.4346 - loss: 1.1600 - val_accuracy: 0.4136 - val_loss: 1.1693\n",
            "Epoch 87/200\n",
            "\u001b[1m697/697\u001b[0m \u001b[32m━━━━━━━━━━━━━━━━━━━━\u001b[0m\u001b[37m\u001b[0m \u001b[1m7s\u001b[0m 9ms/step - accuracy: 0.4377 - loss: 1.1499 - val_accuracy: 0.4209 - val_loss: 1.1654\n",
            "Epoch 88/200\n",
            "\u001b[1m697/697\u001b[0m \u001b[32m━━━━━━━━━━━━━━━━━━━━\u001b[0m\u001b[37m\u001b[0m \u001b[1m9s\u001b[0m 7ms/step - accuracy: 0.4366 - loss: 1.1572 - val_accuracy: 0.4190 - val_loss: 1.1671\n",
            "Epoch 89/200\n",
            "\u001b[1m697/697\u001b[0m \u001b[32m━━━━━━━━━━━━━━━━━━━━\u001b[0m\u001b[37m\u001b[0m \u001b[1m6s\u001b[0m 8ms/step - accuracy: 0.4452 - loss: 1.1526 - val_accuracy: 0.4182 - val_loss: 1.1607\n",
            "Epoch 90/200\n",
            "\u001b[1m697/697\u001b[0m \u001b[32m━━━━━━━━━━━━━━━━━━━━\u001b[0m\u001b[37m\u001b[0m \u001b[1m10s\u001b[0m 8ms/step - accuracy: 0.4340 - loss: 1.1576 - val_accuracy: 0.4134 - val_loss: 1.1616\n",
            "Epoch 91/200\n",
            "\u001b[1m697/697\u001b[0m \u001b[32m━━━━━━━━━━━━━━━━━━━━\u001b[0m\u001b[37m\u001b[0m \u001b[1m9s\u001b[0m 6ms/step - accuracy: 0.4405 - loss: 1.1468 - val_accuracy: 0.4155 - val_loss: 1.1600\n",
            "Epoch 92/200\n",
            "\u001b[1m697/697\u001b[0m \u001b[32m━━━━━━━━━━━━━━━━━━━━\u001b[0m\u001b[37m\u001b[0m \u001b[1m6s\u001b[0m 9ms/step - accuracy: 0.4390 - loss: 1.1476 - val_accuracy: 0.4089 - val_loss: 1.1736\n",
            "Epoch 93/200\n",
            "\u001b[1m697/697\u001b[0m \u001b[32m━━━━━━━━━━━━━━━━━━━━\u001b[0m\u001b[37m\u001b[0m \u001b[1m9s\u001b[0m 7ms/step - accuracy: 0.4388 - loss: 1.1537 - val_accuracy: 0.4112 - val_loss: 1.1638\n",
            "Epoch 94/200\n",
            "\u001b[1m697/697\u001b[0m \u001b[32m━━━━━━━━━━━━━━━━━━━━\u001b[0m\u001b[37m\u001b[0m \u001b[1m7s\u001b[0m 9ms/step - accuracy: 0.4392 - loss: 1.1566 - val_accuracy: 0.4118 - val_loss: 1.1597\n",
            "Epoch 95/200\n",
            "\u001b[1m697/697\u001b[0m \u001b[32m━━━━━━━━━━━━━━━━━━━━\u001b[0m\u001b[37m\u001b[0m \u001b[1m5s\u001b[0m 7ms/step - accuracy: 0.4372 - loss: 1.1501 - val_accuracy: 0.4188 - val_loss: 1.1679\n",
            "Epoch 96/200\n",
            "\u001b[1m697/697\u001b[0m \u001b[32m━━━━━━━━━━━━━━━━━━━━\u001b[0m\u001b[37m\u001b[0m \u001b[1m6s\u001b[0m 8ms/step - accuracy: 0.4321 - loss: 1.1571 - val_accuracy: 0.4136 - val_loss: 1.1615\n",
            "Epoch 97/200\n",
            "\u001b[1m697/697\u001b[0m \u001b[32m━━━━━━━━━━━━━━━━━━━━\u001b[0m\u001b[37m\u001b[0m \u001b[1m9s\u001b[0m 7ms/step - accuracy: 0.4436 - loss: 1.1503 - val_accuracy: 0.4120 - val_loss: 1.1606\n",
            "Epoch 98/200\n",
            "\u001b[1m697/697\u001b[0m \u001b[32m━━━━━━━━━━━━━━━━━━━━\u001b[0m\u001b[37m\u001b[0m \u001b[1m7s\u001b[0m 9ms/step - accuracy: 0.4379 - loss: 1.1516 - val_accuracy: 0.4209 - val_loss: 1.1572\n",
            "Epoch 99/200\n",
            "\u001b[1m697/697\u001b[0m \u001b[32m━━━━━━━━━━━━━━━━━━━━\u001b[0m\u001b[37m\u001b[0m \u001b[1m5s\u001b[0m 7ms/step - accuracy: 0.4359 - loss: 1.1558 - val_accuracy: 0.4202 - val_loss: 1.1650\n",
            "Epoch 100/200\n",
            "\u001b[1m697/697\u001b[0m \u001b[32m━━━━━━━━━━━━━━━━━━━━\u001b[0m\u001b[37m\u001b[0m \u001b[1m5s\u001b[0m 8ms/step - accuracy: 0.4384 - loss: 1.1495 - val_accuracy: 0.4129 - val_loss: 1.1577\n",
            "Epoch 101/200\n",
            "\u001b[1m697/697\u001b[0m \u001b[32m━━━━━━━━━━━━━━━━━━━━\u001b[0m\u001b[37m\u001b[0m \u001b[1m9s\u001b[0m 7ms/step - accuracy: 0.4406 - loss: 1.1476 - val_accuracy: 0.4195 - val_loss: 1.1644\n",
            "Epoch 102/200\n",
            "\u001b[1m697/697\u001b[0m \u001b[32m━━━━━━━━━━━━━━━━━━━━\u001b[0m\u001b[37m\u001b[0m \u001b[1m7s\u001b[0m 9ms/step - accuracy: 0.4455 - loss: 1.1461 - val_accuracy: 0.4130 - val_loss: 1.1583\n",
            "Epoch 103/200\n",
            "\u001b[1m697/697\u001b[0m \u001b[32m━━━━━━━━━━━━━━━━━━━━\u001b[0m\u001b[37m\u001b[0m \u001b[1m9s\u001b[0m 7ms/step - accuracy: 0.4442 - loss: 1.1516 - val_accuracy: 0.4075 - val_loss: 1.1788\n",
            "Epoch 104/200\n",
            "\u001b[1m697/697\u001b[0m \u001b[32m━━━━━━━━━━━━━━━━━━━━\u001b[0m\u001b[37m\u001b[0m \u001b[1m6s\u001b[0m 8ms/step - accuracy: 0.4375 - loss: 1.1502 - val_accuracy: 0.4173 - val_loss: 1.1576\n",
            "Epoch 105/200\n",
            "\u001b[1m697/697\u001b[0m \u001b[32m━━━━━━━━━━━━━━━━━━━━\u001b[0m\u001b[37m\u001b[0m \u001b[1m5s\u001b[0m 7ms/step - accuracy: 0.4408 - loss: 1.1511 - val_accuracy: 0.4177 - val_loss: 1.1589\n",
            "Epoch 106/200\n",
            "\u001b[1m697/697\u001b[0m \u001b[32m━━━━━━━━━━━━━━━━━━━━\u001b[0m\u001b[37m\u001b[0m \u001b[1m6s\u001b[0m 9ms/step - accuracy: 0.4399 - loss: 1.1516 - val_accuracy: 0.4107 - val_loss: 1.1618\n",
            "Epoch 107/200\n",
            "\u001b[1m697/697\u001b[0m \u001b[32m━━━━━━━━━━━━━━━━━━━━\u001b[0m\u001b[37m\u001b[0m \u001b[1m9s\u001b[0m 7ms/step - accuracy: 0.4402 - loss: 1.1518 - val_accuracy: 0.4215 - val_loss: 1.1638\n",
            "Epoch 108/200\n",
            "\u001b[1m697/697\u001b[0m \u001b[32m━━━━━━━━━━━━━━━━━━━━\u001b[0m\u001b[37m\u001b[0m \u001b[1m6s\u001b[0m 9ms/step - accuracy: 0.4398 - loss: 1.1474 - val_accuracy: 0.4111 - val_loss: 1.1661\n",
            "Epoch 109/200\n",
            "\u001b[1m697/697\u001b[0m \u001b[32m━━━━━━━━━━━━━━━━━━━━\u001b[0m\u001b[37m\u001b[0m \u001b[1m8s\u001b[0m 6ms/step - accuracy: 0.4396 - loss: 1.1400 - val_accuracy: 0.4166 - val_loss: 1.1723\n",
            "Epoch 110/200\n",
            "\u001b[1m697/697\u001b[0m \u001b[32m━━━━━━━━━━━━━━━━━━━━\u001b[0m\u001b[37m\u001b[0m \u001b[1m6s\u001b[0m 9ms/step - accuracy: 0.4397 - loss: 1.1509 - val_accuracy: 0.4116 - val_loss: 1.1601\n",
            "Epoch 111/200\n",
            "\u001b[1m697/697\u001b[0m \u001b[32m━━━━━━━━━━━━━━━━━━━━\u001b[0m\u001b[37m\u001b[0m \u001b[1m9s\u001b[0m 8ms/step - accuracy: 0.4463 - loss: 1.1441 - val_accuracy: 0.4175 - val_loss: 1.1673\n",
            "Epoch 112/200\n",
            "\u001b[1m697/697\u001b[0m \u001b[32m━━━━━━━━━━━━━━━━━━━━\u001b[0m\u001b[37m\u001b[0m \u001b[1m10s\u001b[0m 7ms/step - accuracy: 0.4387 - loss: 1.1564 - val_accuracy: 0.4127 - val_loss: 1.1620\n",
            "Epoch 113/200\n",
            "\u001b[1m697/697\u001b[0m \u001b[32m━━━━━━━━━━━━━━━━━━━━\u001b[0m\u001b[37m\u001b[0m \u001b[1m6s\u001b[0m 9ms/step - accuracy: 0.4411 - loss: 1.1529 - val_accuracy: 0.4111 - val_loss: 1.1659\n",
            "Epoch 114/200\n",
            "\u001b[1m697/697\u001b[0m \u001b[32m━━━━━━━━━━━━━━━━━━━━\u001b[0m\u001b[37m\u001b[0m \u001b[1m9s\u001b[0m 7ms/step - accuracy: 0.4395 - loss: 1.1470 - val_accuracy: 0.4017 - val_loss: 1.1751\n",
            "Epoch 115/200\n",
            "\u001b[1m697/697\u001b[0m \u001b[32m━━━━━━━━━━━━━━━━━━━━\u001b[0m\u001b[37m\u001b[0m \u001b[1m7s\u001b[0m 9ms/step - accuracy: 0.4403 - loss: 1.1517 - val_accuracy: 0.4103 - val_loss: 1.1614\n",
            "Epoch 116/200\n",
            "\u001b[1m697/697\u001b[0m \u001b[32m━━━━━━━━━━━━━━━━━━━━\u001b[0m\u001b[37m\u001b[0m \u001b[1m5s\u001b[0m 7ms/step - accuracy: 0.4438 - loss: 1.1489 - val_accuracy: 0.4184 - val_loss: 1.1657\n",
            "Epoch 117/200\n",
            "\u001b[1m697/697\u001b[0m \u001b[32m━━━━━━━━━━━━━━━━━━━━\u001b[0m\u001b[37m\u001b[0m \u001b[1m6s\u001b[0m 8ms/step - accuracy: 0.4421 - loss: 1.1464 - val_accuracy: 0.4075 - val_loss: 1.1649\n",
            "Epoch 118/200\n",
            "\u001b[1m697/697\u001b[0m \u001b[32m━━━━━━━━━━━━━━━━━━━━\u001b[0m\u001b[37m\u001b[0m \u001b[1m9s\u001b[0m 7ms/step - accuracy: 0.4423 - loss: 1.1473 - val_accuracy: 0.4134 - val_loss: 1.1555\n",
            "Epoch 119/200\n",
            "\u001b[1m697/697\u001b[0m \u001b[32m━━━━━━━━━━━━━━━━━━━━\u001b[0m\u001b[37m\u001b[0m \u001b[1m6s\u001b[0m 9ms/step - accuracy: 0.4452 - loss: 1.1425 - val_accuracy: 0.4177 - val_loss: 1.1665\n",
            "Epoch 120/200\n",
            "\u001b[1m697/697\u001b[0m \u001b[32m━━━━━━━━━━━━━━━━━━━━\u001b[0m\u001b[37m\u001b[0m \u001b[1m5s\u001b[0m 7ms/step - accuracy: 0.4418 - loss: 1.1447 - val_accuracy: 0.4134 - val_loss: 1.1686\n",
            "Epoch 121/200\n",
            "\u001b[1m697/697\u001b[0m \u001b[32m━━━━━━━━━━━━━━━━━━━━\u001b[0m\u001b[37m\u001b[0m \u001b[1m5s\u001b[0m 7ms/step - accuracy: 0.4419 - loss: 1.1459 - val_accuracy: 0.4195 - val_loss: 1.1614\n",
            "Epoch 122/200\n",
            "\u001b[1m697/697\u001b[0m \u001b[32m━━━━━━━━━━━━━━━━━━━━\u001b[0m\u001b[37m\u001b[0m \u001b[1m10s\u001b[0m 7ms/step - accuracy: 0.4391 - loss: 1.1512 - val_accuracy: 0.4170 - val_loss: 1.1611\n",
            "Epoch 123/200\n",
            "\u001b[1m697/697\u001b[0m \u001b[32m━━━━━━━━━━━━━━━━━━━━\u001b[0m\u001b[37m\u001b[0m \u001b[1m7s\u001b[0m 9ms/step - accuracy: 0.4447 - loss: 1.1413 - val_accuracy: 0.4129 - val_loss: 1.1644\n",
            "Epoch 124/200\n",
            "\u001b[1m697/697\u001b[0m \u001b[32m━━━━━━━━━━━━━━━━━━━━\u001b[0m\u001b[37m\u001b[0m \u001b[1m9s\u001b[0m 7ms/step - accuracy: 0.4479 - loss: 1.1429 - val_accuracy: 0.4091 - val_loss: 1.1731\n",
            "Epoch 125/200\n",
            "\u001b[1m697/697\u001b[0m \u001b[32m━━━━━━━━━━━━━━━━━━━━\u001b[0m\u001b[37m\u001b[0m \u001b[1m6s\u001b[0m 9ms/step - accuracy: 0.4458 - loss: 1.1426 - val_accuracy: 0.4112 - val_loss: 1.1671\n",
            "Epoch 126/200\n",
            "\u001b[1m697/697\u001b[0m \u001b[32m━━━━━━━━━━━━━━━━━━━━\u001b[0m\u001b[37m\u001b[0m \u001b[1m9s\u001b[0m 7ms/step - accuracy: 0.4458 - loss: 1.1433 - val_accuracy: 0.4111 - val_loss: 1.1642\n",
            "Epoch 127/200\n",
            "\u001b[1m697/697\u001b[0m \u001b[32m━━━━━━━━━━━━━━━━━━━━\u001b[0m\u001b[37m\u001b[0m \u001b[1m10s\u001b[0m 7ms/step - accuracy: 0.4442 - loss: 1.1450 - val_accuracy: 0.4159 - val_loss: 1.1698\n",
            "Epoch 128/200\n",
            "\u001b[1m697/697\u001b[0m \u001b[32m━━━━━━━━━━━━━━━━━━━━\u001b[0m\u001b[37m\u001b[0m \u001b[1m6s\u001b[0m 9ms/step - accuracy: 0.4456 - loss: 1.1398 - val_accuracy: 0.4216 - val_loss: 1.1587\n",
            "Epoch 129/200\n",
            "\u001b[1m697/697\u001b[0m \u001b[32m━━━━━━━━━━━━━━━━━━━━\u001b[0m\u001b[37m\u001b[0m \u001b[1m9s\u001b[0m 7ms/step - accuracy: 0.4454 - loss: 1.1400 - val_accuracy: 0.4168 - val_loss: 1.1621\n",
            "Epoch 130/200\n",
            "\u001b[1m697/697\u001b[0m \u001b[32m━━━━━━━━━━━━━━━━━━━━\u001b[0m\u001b[37m\u001b[0m \u001b[1m6s\u001b[0m 9ms/step - accuracy: 0.4379 - loss: 1.1435 - val_accuracy: 0.4084 - val_loss: 1.1653\n",
            "Epoch 131/200\n",
            "\u001b[1m697/697\u001b[0m \u001b[32m━━━━━━━━━━━━━━━━━━━━\u001b[0m\u001b[37m\u001b[0m \u001b[1m5s\u001b[0m 7ms/step - accuracy: 0.4449 - loss: 1.1469 - val_accuracy: 0.4197 - val_loss: 1.1661\n",
            "Epoch 132/200\n",
            "\u001b[1m697/697\u001b[0m \u001b[32m━━━━━━━━━━━━━━━━━━━━\u001b[0m\u001b[37m\u001b[0m \u001b[1m6s\u001b[0m 9ms/step - accuracy: 0.4388 - loss: 1.1427 - val_accuracy: 0.4155 - val_loss: 1.1657\n",
            "Epoch 133/200\n",
            "\u001b[1m697/697\u001b[0m \u001b[32m━━━━━━━━━━━━━━━━━━━━\u001b[0m\u001b[37m\u001b[0m \u001b[1m9s\u001b[0m 6ms/step - accuracy: 0.4447 - loss: 1.1392 - val_accuracy: 0.4150 - val_loss: 1.1665\n",
            "Epoch 134/200\n",
            "\u001b[1m697/697\u001b[0m \u001b[32m━━━━━━━━━━━━━━━━━━━━\u001b[0m\u001b[37m\u001b[0m \u001b[1m6s\u001b[0m 9ms/step - accuracy: 0.4484 - loss: 1.1438 - val_accuracy: 0.4195 - val_loss: 1.1618\n",
            "Epoch 135/200\n",
            "\u001b[1m697/697\u001b[0m \u001b[32m━━━━━━━━━━━━━━━━━━━━\u001b[0m\u001b[37m\u001b[0m \u001b[1m5s\u001b[0m 7ms/step - accuracy: 0.4403 - loss: 1.1494 - val_accuracy: 0.4041 - val_loss: 1.1778\n",
            "Epoch 136/200\n",
            "\u001b[1m697/697\u001b[0m \u001b[32m━━━━━━━━━━━━━━━━━━━━\u001b[0m\u001b[37m\u001b[0m \u001b[1m5s\u001b[0m 7ms/step - accuracy: 0.4409 - loss: 1.1471 - val_accuracy: 0.4209 - val_loss: 1.1651\n",
            "Epoch 137/200\n",
            "\u001b[1m697/697\u001b[0m \u001b[32m━━━━━━━━━━━━━━━━━━━━\u001b[0m\u001b[37m\u001b[0m \u001b[1m10s\u001b[0m 7ms/step - accuracy: 0.4437 - loss: 1.1463 - val_accuracy: 0.4137 - val_loss: 1.1676\n",
            "Epoch 138/200\n",
            "\u001b[1m697/697\u001b[0m \u001b[32m━━━━━━━━━━━━━━━━━━━━\u001b[0m\u001b[37m\u001b[0m \u001b[1m7s\u001b[0m 9ms/step - accuracy: 0.4422 - loss: 1.1371 - val_accuracy: 0.4132 - val_loss: 1.1635\n",
            "Epoch 139/200\n",
            "\u001b[1m697/697\u001b[0m \u001b[32m━━━━━━━━━━━━━━━━━━━━\u001b[0m\u001b[37m\u001b[0m \u001b[1m5s\u001b[0m 6ms/step - accuracy: 0.4491 - loss: 1.1363 - val_accuracy: 0.4136 - val_loss: 1.1627\n",
            "Epoch 140/200\n",
            "\u001b[1m697/697\u001b[0m \u001b[32m━━━━━━━━━━━━━━━━━━━━\u001b[0m\u001b[37m\u001b[0m \u001b[1m6s\u001b[0m 8ms/step - accuracy: 0.4446 - loss: 1.1414 - val_accuracy: 0.4073 - val_loss: 1.1790\n",
            "Epoch 141/200\n",
            "\u001b[1m697/697\u001b[0m \u001b[32m━━━━━━━━━━━━━━━━━━━━\u001b[0m\u001b[37m\u001b[0m \u001b[1m10s\u001b[0m 7ms/step - accuracy: 0.4495 - loss: 1.1359 - val_accuracy: 0.4168 - val_loss: 1.1631\n",
            "Epoch 142/200\n",
            "\u001b[1m697/697\u001b[0m \u001b[32m━━━━━━━━━━━━━━━━━━━━\u001b[0m\u001b[37m\u001b[0m \u001b[1m6s\u001b[0m 9ms/step - accuracy: 0.4506 - loss: 1.1385 - val_accuracy: 0.4129 - val_loss: 1.1587\n",
            "Epoch 143/200\n",
            "\u001b[1m697/697\u001b[0m \u001b[32m━━━━━━━━━━━━━━━━━━━━\u001b[0m\u001b[37m\u001b[0m \u001b[1m9s\u001b[0m 7ms/step - accuracy: 0.4445 - loss: 1.1393 - val_accuracy: 0.4146 - val_loss: 1.1599\n",
            "Epoch 144/200\n",
            "\u001b[1m697/697\u001b[0m \u001b[32m━━━━━━━━━━━━━━━━━━━━\u001b[0m\u001b[37m\u001b[0m \u001b[1m7s\u001b[0m 9ms/step - accuracy: 0.4448 - loss: 1.1376 - val_accuracy: 0.4091 - val_loss: 1.1636\n",
            "Epoch 145/200\n",
            "\u001b[1m697/697\u001b[0m \u001b[32m━━━━━━━━━━━━━━━━━━━━\u001b[0m\u001b[37m\u001b[0m \u001b[1m5s\u001b[0m 7ms/step - accuracy: 0.4463 - loss: 1.1396 - val_accuracy: 0.4163 - val_loss: 1.1594\n",
            "Epoch 146/200\n",
            "\u001b[1m697/697\u001b[0m \u001b[32m━━━━━━━━━━━━━━━━━━━━\u001b[0m\u001b[37m\u001b[0m \u001b[1m6s\u001b[0m 9ms/step - accuracy: 0.4451 - loss: 1.1328 - val_accuracy: 0.4159 - val_loss: 1.1672\n",
            "Epoch 147/200\n",
            "\u001b[1m697/697\u001b[0m \u001b[32m━━━━━━━━━━━━━━━━━━━━\u001b[0m\u001b[37m\u001b[0m \u001b[1m9s\u001b[0m 6ms/step - accuracy: 0.4426 - loss: 1.1388 - val_accuracy: 0.4159 - val_loss: 1.1643\n",
            "Epoch 148/200\n",
            "\u001b[1m697/697\u001b[0m \u001b[32m━━━━━━━━━━━━━━━━━━━━\u001b[0m\u001b[37m\u001b[0m \u001b[1m7s\u001b[0m 9ms/step - accuracy: 0.4502 - loss: 1.1329 - val_accuracy: 0.4059 - val_loss: 1.1663\n",
            "Epoch 149/200\n",
            "\u001b[1m697/697\u001b[0m \u001b[32m━━━━━━━━━━━━━━━━━━━━\u001b[0m\u001b[37m\u001b[0m \u001b[1m5s\u001b[0m 7ms/step - accuracy: 0.4446 - loss: 1.1415 - val_accuracy: 0.4123 - val_loss: 1.1606\n",
            "Epoch 150/200\n",
            "\u001b[1m697/697\u001b[0m \u001b[32m━━━━━━━━━━━━━━━━━━━━\u001b[0m\u001b[37m\u001b[0m \u001b[1m5s\u001b[0m 8ms/step - accuracy: 0.4527 - loss: 1.1347 - val_accuracy: 0.4102 - val_loss: 1.1683\n",
            "Epoch 151/200\n",
            "\u001b[1m697/697\u001b[0m \u001b[32m━━━━━━━━━━━━━━━━━━━━\u001b[0m\u001b[37m\u001b[0m \u001b[1m10s\u001b[0m 7ms/step - accuracy: 0.4498 - loss: 1.1325 - val_accuracy: 0.4136 - val_loss: 1.1686\n",
            "Epoch 152/200\n",
            "\u001b[1m697/697\u001b[0m \u001b[32m━━━━━━━━━━━━━━━━━━━━\u001b[0m\u001b[37m\u001b[0m \u001b[1m7s\u001b[0m 9ms/step - accuracy: 0.4486 - loss: 1.1359 - val_accuracy: 0.4100 - val_loss: 1.1651\n",
            "Epoch 153/200\n",
            "\u001b[1m697/697\u001b[0m \u001b[32m━━━━━━━━━━━━━━━━━━━━\u001b[0m\u001b[37m\u001b[0m \u001b[1m9s\u001b[0m 7ms/step - accuracy: 0.4453 - loss: 1.1404 - val_accuracy: 0.4091 - val_loss: 1.1632\n",
            "Epoch 154/200\n",
            "\u001b[1m697/697\u001b[0m \u001b[32m━━━━━━━━━━━━━━━━━━━━\u001b[0m\u001b[37m\u001b[0m \u001b[1m7s\u001b[0m 9ms/step - accuracy: 0.4467 - loss: 1.1339 - val_accuracy: 0.4120 - val_loss: 1.1608\n",
            "Epoch 155/200\n",
            "\u001b[1m697/697\u001b[0m \u001b[32m━━━━━━━━━━━━━━━━━━━━\u001b[0m\u001b[37m\u001b[0m \u001b[1m5s\u001b[0m 7ms/step - accuracy: 0.4514 - loss: 1.1369 - val_accuracy: 0.4224 - val_loss: 1.1649\n",
            "Epoch 156/200\n",
            "\u001b[1m697/697\u001b[0m \u001b[32m━━━━━━━━━━━━━━━━━━━━\u001b[0m\u001b[37m\u001b[0m \u001b[1m6s\u001b[0m 8ms/step - accuracy: 0.4477 - loss: 1.1381 - val_accuracy: 0.4157 - val_loss: 1.1600\n",
            "Epoch 157/200\n",
            "\u001b[1m697/697\u001b[0m \u001b[32m━━━━━━━━━━━━━━━━━━━━\u001b[0m\u001b[37m\u001b[0m \u001b[1m5s\u001b[0m 7ms/step - accuracy: 0.4462 - loss: 1.1411 - val_accuracy: 0.4123 - val_loss: 1.1702\n",
            "Epoch 158/200\n",
            "\u001b[1m697/697\u001b[0m \u001b[32m━━━━━━━━━━━━━━━━━━━━\u001b[0m\u001b[37m\u001b[0m \u001b[1m5s\u001b[0m 7ms/step - accuracy: 0.4520 - loss: 1.1358 - val_accuracy: 0.4120 - val_loss: 1.1642\n",
            "Epoch 159/200\n",
            "\u001b[1m697/697\u001b[0m \u001b[32m━━━━━━━━━━━━━━━━━━━━\u001b[0m\u001b[37m\u001b[0m \u001b[1m7s\u001b[0m 9ms/step - accuracy: 0.4518 - loss: 1.1353 - val_accuracy: 0.4218 - val_loss: 1.1711\n",
            "Epoch 160/200\n",
            "\u001b[1m697/697\u001b[0m \u001b[32m━━━━━━━━━━━━━━━━━━━━\u001b[0m\u001b[37m\u001b[0m \u001b[1m5s\u001b[0m 7ms/step - accuracy: 0.4505 - loss: 1.1343 - val_accuracy: 0.4155 - val_loss: 1.1611\n",
            "Epoch 161/200\n",
            "\u001b[1m697/697\u001b[0m \u001b[32m━━━━━━━━━━━━━━━━━━━━\u001b[0m\u001b[37m\u001b[0m \u001b[1m6s\u001b[0m 8ms/step - accuracy: 0.4546 - loss: 1.1385 - val_accuracy: 0.4258 - val_loss: 1.1581\n",
            "Epoch 162/200\n",
            "\u001b[1m697/697\u001b[0m \u001b[32m━━━━━━━━━━━━━━━━━━━━\u001b[0m\u001b[37m\u001b[0m \u001b[1m10s\u001b[0m 7ms/step - accuracy: 0.4478 - loss: 1.1367 - val_accuracy: 0.4137 - val_loss: 1.1646\n",
            "Epoch 163/200\n",
            "\u001b[1m697/697\u001b[0m \u001b[32m━━━━━━━━━━━━━━━━━━━━\u001b[0m\u001b[37m\u001b[0m \u001b[1m6s\u001b[0m 9ms/step - accuracy: 0.4485 - loss: 1.1307 - val_accuracy: 0.4141 - val_loss: 1.1613\n",
            "Epoch 164/200\n",
            "\u001b[1m697/697\u001b[0m \u001b[32m━━━━━━━━━━━━━━━━━━━━\u001b[0m\u001b[37m\u001b[0m \u001b[1m5s\u001b[0m 7ms/step - accuracy: 0.4487 - loss: 1.1304 - val_accuracy: 0.4145 - val_loss: 1.1559\n",
            "Epoch 165/200\n",
            "\u001b[1m697/697\u001b[0m \u001b[32m━━━━━━━━━━━━━━━━━━━━\u001b[0m\u001b[37m\u001b[0m \u001b[1m5s\u001b[0m 7ms/step - accuracy: 0.4464 - loss: 1.1354 - val_accuracy: 0.4143 - val_loss: 1.1619\n",
            "Epoch 166/200\n",
            "\u001b[1m697/697\u001b[0m \u001b[32m━━━━━━━━━━━━━━━━━━━━\u001b[0m\u001b[37m\u001b[0m \u001b[1m6s\u001b[0m 8ms/step - accuracy: 0.4491 - loss: 1.1287 - val_accuracy: 0.4163 - val_loss: 1.1616\n",
            "Epoch 167/200\n",
            "\u001b[1m697/697\u001b[0m \u001b[32m━━━━━━━━━━━━━━━━━━━━\u001b[0m\u001b[37m\u001b[0m \u001b[1m5s\u001b[0m 7ms/step - accuracy: 0.4462 - loss: 1.1385 - val_accuracy: 0.4071 - val_loss: 1.1785\n",
            "Epoch 168/200\n",
            "\u001b[1m697/697\u001b[0m \u001b[32m━━━━━━━━━━━━━━━━━━━━\u001b[0m\u001b[37m\u001b[0m \u001b[1m7s\u001b[0m 9ms/step - accuracy: 0.4553 - loss: 1.1295 - val_accuracy: 0.4218 - val_loss: 1.1584\n",
            "Epoch 169/200\n",
            "\u001b[1m697/697\u001b[0m \u001b[32m━━━━━━━━━━━━━━━━━━━━\u001b[0m\u001b[37m\u001b[0m \u001b[1m9s\u001b[0m 7ms/step - accuracy: 0.4476 - loss: 1.1319 - val_accuracy: 0.4112 - val_loss: 1.1687\n",
            "Epoch 170/200\n",
            "\u001b[1m697/697\u001b[0m \u001b[32m━━━━━━━━━━━━━━━━━━━━\u001b[0m\u001b[37m\u001b[0m \u001b[1m7s\u001b[0m 9ms/step - accuracy: 0.4550 - loss: 1.1326 - val_accuracy: 0.4164 - val_loss: 1.1659\n",
            "Epoch 171/200\n",
            "\u001b[1m697/697\u001b[0m \u001b[32m━━━━━━━━━━━━━━━━━━━━\u001b[0m\u001b[37m\u001b[0m \u001b[1m5s\u001b[0m 7ms/step - accuracy: 0.4527 - loss: 1.1286 - val_accuracy: 0.4150 - val_loss: 1.1624\n",
            "Epoch 172/200\n",
            "\u001b[1m697/697\u001b[0m \u001b[32m━━━━━━━━━━━━━━━━━━━━\u001b[0m\u001b[37m\u001b[0m \u001b[1m5s\u001b[0m 7ms/step - accuracy: 0.4444 - loss: 1.1383 - val_accuracy: 0.4175 - val_loss: 1.1621\n",
            "Epoch 173/200\n",
            "\u001b[1m697/697\u001b[0m \u001b[32m━━━━━━━━━━━━━━━━━━━━\u001b[0m\u001b[37m\u001b[0m \u001b[1m6s\u001b[0m 8ms/step - accuracy: 0.4500 - loss: 1.1280 - val_accuracy: 0.4087 - val_loss: 1.1801\n",
            "Epoch 174/200\n",
            "\u001b[1m697/697\u001b[0m \u001b[32m━━━━━━━━━━━━━━━━━━━━\u001b[0m\u001b[37m\u001b[0m \u001b[1m5s\u001b[0m 7ms/step - accuracy: 0.4518 - loss: 1.1261 - val_accuracy: 0.4082 - val_loss: 1.1681\n",
            "Epoch 175/200\n",
            "\u001b[1m697/697\u001b[0m \u001b[32m━━━━━━━━━━━━━━━━━━━━\u001b[0m\u001b[37m\u001b[0m \u001b[1m6s\u001b[0m 9ms/step - accuracy: 0.4519 - loss: 1.1219 - val_accuracy: 0.4100 - val_loss: 1.1726\n",
            "Epoch 176/200\n",
            "\u001b[1m697/697\u001b[0m \u001b[32m━━━━━━━━━━━━━━━━━━━━\u001b[0m\u001b[37m\u001b[0m \u001b[1m5s\u001b[0m 7ms/step - accuracy: 0.4518 - loss: 1.1316 - val_accuracy: 0.4076 - val_loss: 1.1645\n",
            "Epoch 177/200\n",
            "\u001b[1m697/697\u001b[0m \u001b[32m━━━━━━━━━━━━━━━━━━━━\u001b[0m\u001b[37m\u001b[0m \u001b[1m5s\u001b[0m 7ms/step - accuracy: 0.4504 - loss: 1.1279 - val_accuracy: 0.4152 - val_loss: 1.1612\n",
            "Epoch 178/200\n",
            "\u001b[1m697/697\u001b[0m \u001b[32m━━━━━━━━━━━━━━━━━━━━\u001b[0m\u001b[37m\u001b[0m \u001b[1m6s\u001b[0m 9ms/step - accuracy: 0.4506 - loss: 1.1310 - val_accuracy: 0.4137 - val_loss: 1.1706\n",
            "Epoch 179/200\n",
            "\u001b[1m697/697\u001b[0m \u001b[32m━━━━━━━━━━━━━━━━━━━━\u001b[0m\u001b[37m\u001b[0m \u001b[1m5s\u001b[0m 7ms/step - accuracy: 0.4590 - loss: 1.1257 - val_accuracy: 0.4085 - val_loss: 1.1717\n",
            "Epoch 180/200\n",
            "\u001b[1m697/697\u001b[0m \u001b[32m━━━━━━━━━━━━━━━━━━━━\u001b[0m\u001b[37m\u001b[0m \u001b[1m6s\u001b[0m 8ms/step - accuracy: 0.4416 - loss: 1.1348 - val_accuracy: 0.4096 - val_loss: 1.1754\n",
            "Epoch 181/200\n",
            "\u001b[1m697/697\u001b[0m \u001b[32m━━━━━━━━━━━━━━━━━━━━\u001b[0m\u001b[37m\u001b[0m \u001b[1m9s\u001b[0m 7ms/step - accuracy: 0.4448 - loss: 1.1310 - val_accuracy: 0.4080 - val_loss: 1.1637\n",
            "Epoch 182/200\n",
            "\u001b[1m697/697\u001b[0m \u001b[32m━━━━━━━━━━━━━━━━━━━━\u001b[0m\u001b[37m\u001b[0m \u001b[1m7s\u001b[0m 9ms/step - accuracy: 0.4492 - loss: 1.1335 - val_accuracy: 0.4069 - val_loss: 1.1649\n",
            "Epoch 183/200\n",
            "\u001b[1m697/697\u001b[0m \u001b[32m━━━━━━━━━━━━━━━━━━━━\u001b[0m\u001b[37m\u001b[0m \u001b[1m5s\u001b[0m 7ms/step - accuracy: 0.4555 - loss: 1.1204 - val_accuracy: 0.4073 - val_loss: 1.1714\n",
            "Epoch 184/200\n",
            "\u001b[1m697/697\u001b[0m \u001b[32m━━━━━━━━━━━━━━━━━━━━\u001b[0m\u001b[37m\u001b[0m \u001b[1m6s\u001b[0m 8ms/step - accuracy: 0.4525 - loss: 1.1275 - val_accuracy: 0.4082 - val_loss: 1.1831\n",
            "Epoch 185/200\n",
            "\u001b[1m697/697\u001b[0m \u001b[32m━━━━━━━━━━━━━━━━━━━━\u001b[0m\u001b[37m\u001b[0m \u001b[1m6s\u001b[0m 8ms/step - accuracy: 0.4542 - loss: 1.1269 - val_accuracy: 0.4143 - val_loss: 1.1642\n",
            "Epoch 186/200\n",
            "\u001b[1m697/697\u001b[0m \u001b[32m━━━━━━━━━━━━━━━━━━━━\u001b[0m\u001b[37m\u001b[0m \u001b[1m5s\u001b[0m 7ms/step - accuracy: 0.4456 - loss: 1.1332 - val_accuracy: 0.4024 - val_loss: 1.1789\n",
            "Epoch 187/200\n",
            "\u001b[1m697/697\u001b[0m \u001b[32m━━━━━━━━━━━━━━━━━━━━\u001b[0m\u001b[37m\u001b[0m \u001b[1m7s\u001b[0m 9ms/step - accuracy: 0.4599 - loss: 1.1229 - val_accuracy: 0.4030 - val_loss: 1.1875\n",
            "Epoch 188/200\n",
            "\u001b[1m697/697\u001b[0m \u001b[32m━━━━━━━━━━━━━━━━━━━━\u001b[0m\u001b[37m\u001b[0m \u001b[1m5s\u001b[0m 7ms/step - accuracy: 0.4527 - loss: 1.1246 - val_accuracy: 0.4096 - val_loss: 1.1793\n",
            "Epoch 189/200\n",
            "\u001b[1m697/697\u001b[0m \u001b[32m━━━━━━━━━━━━━━━━━━━━\u001b[0m\u001b[37m\u001b[0m \u001b[1m6s\u001b[0m 7ms/step - accuracy: 0.4476 - loss: 1.1251 - val_accuracy: 0.3931 - val_loss: 1.2095\n",
            "Epoch 190/200\n",
            "\u001b[1m697/697\u001b[0m \u001b[32m━━━━━━━━━━━━━━━━━━━━\u001b[0m\u001b[37m\u001b[0m \u001b[1m6s\u001b[0m 8ms/step - accuracy: 0.4452 - loss: 1.1301 - val_accuracy: 0.4116 - val_loss: 1.1649\n",
            "Epoch 191/200\n",
            "\u001b[1m697/697\u001b[0m \u001b[32m━━━━━━━━━━━━━━━━━━━━\u001b[0m\u001b[37m\u001b[0m \u001b[1m10s\u001b[0m 8ms/step - accuracy: 0.4538 - loss: 1.1257 - val_accuracy: 0.3994 - val_loss: 1.1735\n",
            "Epoch 192/200\n",
            "\u001b[1m697/697\u001b[0m \u001b[32m━━━━━━━━━━━━━━━━━━━━\u001b[0m\u001b[37m\u001b[0m \u001b[1m9s\u001b[0m 7ms/step - accuracy: 0.4499 - loss: 1.1316 - val_accuracy: 0.4055 - val_loss: 1.1747\n",
            "Epoch 193/200\n",
            "\u001b[1m697/697\u001b[0m \u001b[32m━━━━━━━━━━━━━━━━━━━━\u001b[0m\u001b[37m\u001b[0m \u001b[1m7s\u001b[0m 9ms/step - accuracy: 0.4545 - loss: 1.1213 - val_accuracy: 0.4105 - val_loss: 1.1628\n",
            "Epoch 194/200\n",
            "\u001b[1m697/697\u001b[0m \u001b[32m━━━━━━━━━━━━━━━━━━━━\u001b[0m\u001b[37m\u001b[0m \u001b[1m8s\u001b[0m 7ms/step - accuracy: 0.4524 - loss: 1.1275 - val_accuracy: 0.4102 - val_loss: 1.1723\n",
            "Epoch 195/200\n",
            "\u001b[1m697/697\u001b[0m \u001b[32m━━━━━━━━━━━━━━━━━━━━\u001b[0m\u001b[37m\u001b[0m \u001b[1m7s\u001b[0m 9ms/step - accuracy: 0.4552 - loss: 1.1201 - val_accuracy: 0.4012 - val_loss: 1.1836\n",
            "Epoch 196/200\n",
            "\u001b[1m697/697\u001b[0m \u001b[32m━━━━━━━━━━━━━━━━━━━━\u001b[0m\u001b[37m\u001b[0m \u001b[1m10s\u001b[0m 8ms/step - accuracy: 0.4462 - loss: 1.1263 - val_accuracy: 0.4078 - val_loss: 1.1770\n",
            "Epoch 197/200\n",
            "\u001b[1m697/697\u001b[0m \u001b[32m━━━━━━━━━━━━━━━━━━━━\u001b[0m\u001b[37m\u001b[0m \u001b[1m9s\u001b[0m 7ms/step - accuracy: 0.4564 - loss: 1.1186 - val_accuracy: 0.4069 - val_loss: 1.1718\n",
            "Epoch 198/200\n",
            "\u001b[1m697/697\u001b[0m \u001b[32m━━━━━━━━━━━━━━━━━━━━\u001b[0m\u001b[37m\u001b[0m \u001b[1m6s\u001b[0m 9ms/step - accuracy: 0.4486 - loss: 1.1163 - val_accuracy: 0.4107 - val_loss: 1.1740\n",
            "Epoch 199/200\n",
            "\u001b[1m697/697\u001b[0m \u001b[32m━━━━━━━━━━━━━━━━━━━━\u001b[0m\u001b[37m\u001b[0m \u001b[1m5s\u001b[0m 7ms/step - accuracy: 0.4534 - loss: 1.1242 - val_accuracy: 0.4050 - val_loss: 1.1665\n",
            "Epoch 200/200\n",
            "\u001b[1m697/697\u001b[0m \u001b[32m━━━━━━━━━━━━━━━━━━━━\u001b[0m\u001b[37m\u001b[0m \u001b[1m6s\u001b[0m 8ms/step - accuracy: 0.4521 - loss: 1.1258 - val_accuracy: 0.4118 - val_loss: 1.1667\n"
          ]
        }
      ],
      "source": [
        "history =model.fit(train_ds, epochs=200, validation_data=val_ds)"
      ]
    },
    {
      "cell_type": "code",
      "source": [
        "import matplotlib.pyplot as plt\n",
        "history_dict = history.history\n",
        "loss_values = history_dict[\"loss\"]\n",
        "val_loss_values = history_dict[\"val_loss\"]\n",
        "epochs = range(1, len(loss_values) + 1)\n",
        "plt.plot(epochs, loss_values, label=\"Training loss\")\n",
        "plt.plot(epochs, val_loss_values, label=\"Validation loss\")\n",
        "plt.title(\"Training and validation loss\")\n",
        "plt.xlabel(\"Epochs\")\n",
        "plt.ylabel(\"Loss\")\n",
        "plt.legend()\n",
        "plt.show()"
      ],
      "metadata": {
        "colab": {
          "base_uri": "https://localhost:8080/",
          "height": 472
        },
        "id": "4n6QoO0Gp6yJ",
        "outputId": "6e91bcfd-14de-449f-d6d4-14b33f5616fa"
      },
      "execution_count": null,
      "outputs": [
        {
          "output_type": "display_data",
          "data": {
            "text/plain": [
              "<Figure size 640x480 with 1 Axes>"
            ],
            "image/png": "[encoded data removed]"
          },
          "metadata": {}
        }
      ]
    },
    {
      "cell_type": "code",
      "source": [
        "plt.clf()\n",
        "acc = history_dict[\"accuracy\"]\n",
        "val_acc = history_dict[\"val_accuracy\"]\n",
        "plt.plot(epochs, acc, label=\"Training acc\")\n",
        "plt.plot(epochs, val_acc, label=\"Validation acc\")\n",
        "plt.title(\"Training and validation accuracy\")\n",
        "plt.xlabel(\"Epochs\")\n",
        "plt.ylabel(\"Accuracy\")\n",
        "plt.legend()\n",
        "plt.show()"
      ],
      "metadata": {
        "colab": {
          "base_uri": "https://localhost:8080/",
          "height": 472
        },
        "id": "tRv2UQygwhzW",
        "outputId": "ddd7159a-e538-4578-e228-e6dc0796c9b5"
      },
      "execution_count": null,
      "outputs": [
        {
          "output_type": "display_data",
          "data": {
            "text/plain": [
              "<Figure size 640x480 with 1 Axes>"
            ],
            "image/png": "[encoded data removed]"
          },
          "metadata": {}
        }
      ]
    },
    {
      "cell_type": "code",
      "source": [
        "\n",
        "model.save(\"multiclass.h5\")\n"
      ],
      "metadata": {
        "colab": {
          "base_uri": "https://localhost:8080/"
        },
        "id": "u6VLacl19D6Y",
        "outputId": "4e2652ec-8946-4a41-e3ba-0d3d7a86c7e0"
      },
      "execution_count": null,
      "outputs": [
        {
          "output_type": "stream",
          "name": "stderr",
          "text": [
            "WARNING:absl:You are saving your model as an HDF5 file via `model.save()` or `keras.saving.save_model(model)`. This file format is considered legacy. We recommend using instead the native Keras format, e.g. `model.save('my_model.keras')` or `keras.saving.save_model(model, 'my_model.keras')`. \n"
          ]
        }
      ]
    },
    {
      "cell_type": "code",
      "source": [
        "loaded_model = load_model(\"/content/multiclass.h5\")"
      ],
      "metadata": {
        "colab": {
          "base_uri": "https://localhost:8080/"
        },
        "id": "K8W8BJgODHuI",
        "outputId": "bdf415e6-5b82-4eef-ef2f-def3cc7bf2df"
      },
      "execution_count": null,
      "outputs": [
        {
          "output_type": "stream",
          "name": "stderr",
          "text": [
            "WARNING:absl:Compiled the loaded model, but the compiled metrics have yet to be built. `model.compile_metrics` will be empty until you train or evaluate the model.\n"
          ]
        }
      ]
    },
    {
      "cell_type": "code",
      "source": [
        "spec = (tf.TensorSpec(( 1), tf.float32, name=\"amplitude\"),tf.TensorSpec(( 1), tf.float32, name=\"duration\"),tf.TensorSpec(( 1), tf.float32, name=\"energy\"),tf.TensorSpec(( 1), tf.float32, name=\"rms\"),tf.TensorSpec(( 1), tf.float32, name=\"rise_time\"),tf.TensorSpec((1), tf.float32, name=\"counts\"),)"
      ],
      "metadata": {
        "id": "8MLUP1UkLV2E"
      },
      "execution_count": null,
      "outputs": []
    },
    {
      "cell_type": "code",
      "source": [
        "output_path = 'multiclass.onnx'\n",
        "model_proto, _ = tf2onnx.convert.from_keras(loaded_model, input_signature=spec, opset=13, output_path=output_path)\n",
        "output_names = [n.name for n in model_proto.graph.output]"
      ],
      "metadata": {
        "id": "F30gowenJmoi"
      },
      "execution_count": null,
      "outputs": []
    },
    {
      "cell_type": "code",
      "source": [
        "input_data = {\n",
        "    \"amplitude\": np.array([0.05], dtype=np.float32),\n",
        "    \"duration\": np.array([0.001], dtype=np.float32),\n",
        "    \"energy\": np.array([0.6], dtype=np.float32),\n",
        "    \"rms\": np.array([0.9], dtype=np.float32),\n",
        "    \"rise_time\": np.array([0.3], dtype=np.float32),\n",
        "    \"counts\": np.array([0.7], dtype=np.float32)\n",
        "\n",
        "}\n"
      ],
      "metadata": {
        "id": "jeW0eRjg4d1z"
      },
      "execution_count": null,
      "outputs": []
    },
    {
      "cell_type": "code",
      "source": [
        "input_dict = {name: tf.convert_to_tensor([value]) for name, value in input_data.items()}\n",
        "predictions = loaded_model.predict(input_dict)\n",
        "predictions"
      ],
      "metadata": {
        "colab": {
          "base_uri": "https://localhost:8080/"
        },
        "id": "DSn1gPjsMuuJ",
        "outputId": "254d41b7-c68b-48b3-c962-3060731b849f"
      },
      "execution_count": null,
      "outputs": [
        {
          "output_type": "stream",
          "name": "stdout",
          "text": [
            "\u001b[1m1/1\u001b[0m \u001b[32m━━━━━━━━━━━━━━━━━━━━\u001b[0m\u001b[37m\u001b[0m \u001b[1m0s\u001b[0m 30ms/step\n"
          ]
        },
        {
          "output_type": "execute_result",
          "data": {
            "text/plain": [
              "array([[5.3260158e-07, 6.5845722e-01, 1.4429952e-22, 3.4154218e-01]],\n",
              "      dtype=float32)"
            ]
          },
          "metadata": {},
          "execution_count": 61
        }
      ]
    },
    {
      "cell_type": "code",
      "source": [
        "class_keras=np.argmax(predictions)\n",
        "class_keras"
      ],
      "metadata": {
        "colab": {
          "base_uri": "https://localhost:8080/"
        },
        "id": "IjfcqPHyPtIs",
        "outputId": "06537125-3d08-4853-d105-118444410951"
      },
      "execution_count": null,
      "outputs": [
        {
          "output_type": "execute_result",
          "data": {
            "text/plain": [
              "1"
            ]
          },
          "metadata": {},
          "execution_count": 73
        }
      ]
    },
    {
      "cell_type": "code",
      "source": [
        "\n",
        "m = rt.InferenceSession(output_path)\n",
        "onnx_pred = m.run(output_names, input_data)\n",
        "onnx_pred"
      ],
      "metadata": {
        "id": "zHNuoafByfKz",
        "colab": {
          "base_uri": "https://localhost:8080/"
        },
        "outputId": "fbaa1d85-1de4-447a-e7f1-4c9576409248"
      },
      "execution_count": null,
      "outputs": [
        {
          "output_type": "execute_result",
          "data": {
            "text/plain": [
              "[array([[3.7804045e-02, 3.3292083e-05, 9.6213579e-01, 2.6872038e-05]],\n",
              "       dtype=float32)]"
            ]
          },
          "metadata": {},
          "execution_count": 62
        }
      ]
    },
    {
      "cell_type": "code",
      "source": [
        "class_onnx=np.argmax(onnx_pred)\n",
        "class_onnx"
      ],
      "metadata": {
        "colab": {
          "base_uri": "https://localhost:8080/"
        },
        "id": "svw6i3kXQWEb",
        "outputId": "6d556e85-500b-44eb-b534-5ecfa3bf377a"
      },
      "execution_count": null,
      "outputs": [
        {
          "output_type": "execute_result",
          "data": {
            "text/plain": [
              "2"
            ]
          },
          "metadata": {},
          "execution_count": 74
        }
      ]
    },
    {
      "cell_type": "code",
      "execution_count": null,
      "metadata": {
        "id": "PFrOpQKXRjUs",
        "colab": {
          "base_uri": "https://localhost:8080/",
          "height": 380
        },
        "outputId": "9c27f46c-cee9-4f77-c9c4-8e6bf1ac52b5"
      },
      "outputs": [
        {
          "output_type": "execute_result",
          "data": {
            "image/png": "[encoded data removed]",
            "text/plain": [
              "<IPython.core.display.Image object>"
            ]
          },
          "metadata": {},
          "execution_count": 52
        }
      ],
      "source": [
        "keras.utils.plot_model(model, show_shapes=True, rankdir=\"LR\")"
      ]
    },
    {
      "cell_type": "markdown",
      "source": [
        "# **ML**"
      ],
      "metadata": {
        "id": "lR666a6v066_"
      }
    },
    {
      "cell_type": "code",
      "source": [
        "pip install skl2onnx\n"
      ],
      "metadata": {
        "colab": {
          "base_uri": "https://localhost:8080/",
          "height": 670
        },
        "collapsed": true,
        "id": "gWSGTLyWvn6m",
        "outputId": "a34b2d47-0747-43b2-864f-39554d3becf6"
      },
      "execution_count": null,
      "outputs": [
        {
          "output_type": "stream",
          "name": "stdout",
          "text": [
            "Collecting skl2onnx\n",
            "  Downloading skl2onnx-1.17.0-py2.py3-none-any.whl.metadata (3.2 kB)\n",
            "Requirement already satisfied: onnx>=1.2.1 in /usr/local/lib/python3.10/dist-packages (from skl2onnx) (1.17.0)\n",
            "Requirement already satisfied: scikit-learn>=1.1 in /usr/local/lib/python3.10/dist-packages (from skl2onnx) (1.5.2)\n",
            "Collecting onnxconverter-common>=1.7.0 (from skl2onnx)\n",
            "  Downloading onnxconverter_common-1.14.0-py2.py3-none-any.whl.metadata (4.2 kB)\n",
            "Requirement already satisfied: numpy>=1.20 in /usr/local/lib/python3.10/dist-packages (from onnx>=1.2.1->skl2onnx) (1.26.4)\n",
            "Requirement already satisfied: protobuf>=3.20.2 in /usr/local/lib/python3.10/dist-packages (from onnx>=1.2.1->skl2onnx) (3.20.3)\n",
            "Requirement already satisfied: packaging in /usr/local/lib/python3.10/dist-packages (from onnxconverter-common>=1.7.0->skl2onnx) (24.2)\n",
            "Collecting protobuf>=3.20.2 (from onnx>=1.2.1->skl2onnx)\n",
            "  Downloading protobuf-3.20.2-cp310-cp310-manylinux_2_12_x86_64.manylinux2010_x86_64.whl.metadata (679 bytes)\n",
            "Requirement already satisfied: scipy>=1.6.0 in /usr/local/lib/python3.10/dist-packages (from scikit-learn>=1.1->skl2onnx) (1.13.1)\n",
            "Requirement already satisfied: joblib>=1.2.0 in /usr/local/lib/python3.10/dist-packages (from scikit-learn>=1.1->skl2onnx) (1.4.2)\n",
            "Requirement already satisfied: threadpoolctl>=3.1.0 in /usr/local/lib/python3.10/dist-packages (from scikit-learn>=1.1->skl2onnx) (3.5.0)\n",
            "Downloading skl2onnx-1.17.0-py2.py3-none-any.whl (298 kB)\n",
            "\u001b[2K   \u001b[90m━━━━━━━━━━━━━━━━━━━━━━━━━━━━━━━━━━━━━━━━\u001b[0m \u001b[32m298.4/298.4 kB\u001b[0m \u001b[31m4.9 MB/s\u001b[0m eta \u001b[36m0:00:00\u001b[0m\n",
            "\u001b[?25hDownloading onnxconverter_common-1.14.0-py2.py3-none-any.whl (84 kB)\n",
            "\u001b[2K   \u001b[90m━━━━━━━━━━━━━━━━━━━━━━━━━━━━━━━━━━━━━━━━\u001b[0m \u001b[32m84.5/84.5 kB\u001b[0m \u001b[31m5.9 MB/s\u001b[0m eta \u001b[36m0:00:00\u001b[0m\n",
            "\u001b[?25hDownloading protobuf-3.20.2-cp310-cp310-manylinux_2_12_x86_64.manylinux2010_x86_64.whl (1.1 MB)\n",
            "\u001b[2K   \u001b[90m━━━━━━━━━━━━━━━━━━━━━━━━━━━━━━━━━━━━━━━━\u001b[0m \u001b[32m1.1/1.1 MB\u001b[0m \u001b[31m33.4 MB/s\u001b[0m eta \u001b[36m0:00:00\u001b[0m\n",
            "\u001b[?25hInstalling collected packages: protobuf, onnxconverter-common, skl2onnx\n",
            "  Attempting uninstall: protobuf\n",
            "    Found existing installation: protobuf 3.20.3\n",
            "    Uninstalling protobuf-3.20.3:\n",
            "      Successfully uninstalled protobuf-3.20.3\n",
            "\u001b[31mERROR: pip's dependency resolver does not currently take into account all the packages that are installed. This behaviour is the source of the following dependency conflicts.\n",
            "grpcio-status 1.62.3 requires protobuf>=4.21.6, but you have protobuf 3.20.2 which is incompatible.\n",
            "tensorflow 2.17.1 requires protobuf!=4.21.0,!=4.21.1,!=4.21.2,!=4.21.3,!=4.21.4,!=4.21.5,<5.0.0dev,>=3.20.3, but you have protobuf 3.20.2 which is incompatible.\n",
            "tensorflow-metadata 1.13.1 requires protobuf<5,>=3.20.3, but you have protobuf 3.20.2 which is incompatible.\u001b[0m\u001b[31m\n",
            "\u001b[0mSuccessfully installed onnxconverter-common-1.14.0 protobuf-3.20.2 skl2onnx-1.17.0\n"
          ]
        },
        {
          "output_type": "display_data",
          "data": {
            "application/vnd.colab-display-data+json": {
              "pip_warning": {
                "packages": [
                  "google"
                ]
              },
              "id": "1c5ba3d5a7734b1d860e4fc22082cc36"
            }
          },
          "metadata": {}
        }
      ]
    },
    {
      "cell_type": "code",
      "source": [
        "import skl2onnx\n",
        "from skl2onnx.common.data_types import FloatTensorType\n",
        "from skl2onnx import convert_sklearn"
      ],
      "metadata": {
        "id": "wAk1QevKwdZM"
      },
      "execution_count": null,
      "outputs": []
    },
    {
      "cell_type": "code",
      "source": [
        "from sklearn.datasets import load_breast_cancer\n",
        "from sklearn.model_selection import train_test_split\n",
        "from sklearn.naive_bayes import GaussianNB\n",
        "from sklearn.metrics import accuracy_score\n",
        "\n",
        "\n",
        "labels =dataframe['label']\n",
        "\n",
        "features = dataframe.drop(['label'], axis='columns')\n",
        "\n",
        "\n",
        "# Split our data\n",
        "train, test, train_labels, test_labels = train_test_split(features,\n",
        "                                                          labels,\n",
        "                                                          test_size=0.33,\n",
        "                                                          random_state=42)\n",
        "\n",
        "# Initialize our classifier\n",
        "gnb = GaussianNB()\n",
        "\n",
        "# Train our classifier\n",
        "model = gnb.fit(train, train_labels)\n",
        "\n",
        "# Make predictions\n",
        "preds = gnb.predict(test)\n",
        "print(preds)\n",
        "\n",
        "# Evaluate accuracy\n",
        "print(accuracy_score(test_labels, preds))"
      ],
      "metadata": {
        "colab": {
          "base_uri": "https://localhost:8080/"
        },
        "id": "mE9Ok5e3pl5x",
        "outputId": "4410e80e-eb74-46ab-9f67-6c99b6ef9d20"
      },
      "execution_count": null,
      "outputs": [
        {
          "output_type": "stream",
          "name": "stdout",
          "text": [
            "[1 2 0 ... 2 2 3]\n",
            "0.37419775916458176\n"
          ]
        }
      ]
    },
    {
      "cell_type": "code",
      "source": [
        "input_data = {\n",
        "    \"amplitude\": np.array([5], dtype=np.float32),\n",
        "    \"duration\": np.array([1], dtype=np.float32),\n",
        "    \"energy\": np.array([6], dtype=np.float32),\n",
        "    \"rms\": np.array([9], dtype=np.float32),\n",
        "    \"rise_time\": np.array([3], dtype=np.float32),\n",
        "    \"counts\": np.array([7], dtype=np.float32)\n",
        "\n",
        "}"
      ],
      "metadata": {
        "id": "JZX7NogkuKW0"
      },
      "execution_count": null,
      "outputs": []
    },
    {
      "cell_type": "code",
      "source": [
        "p1=pd.DataFrame.from_dict(input_data)"
      ],
      "metadata": {
        "id": "CB19JabEud_8"
      },
      "execution_count": null,
      "outputs": []
    },
    {
      "cell_type": "code",
      "source": [
        "preds = model.predict(p1)\n",
        "print(preds)"
      ],
      "metadata": {
        "colab": {
          "base_uri": "https://localhost:8080/"
        },
        "id": "nuyojlh5tuY1",
        "outputId": "f3563f28-d251-47eb-a2f5-bda372781bcf"
      },
      "execution_count": null,
      "outputs": [
        {
          "output_type": "stream",
          "name": "stdout",
          "text": [
            "[1]\n"
          ]
        }
      ]
    },
    {
      "cell_type": "code",
      "source": [
        "# Define the input with column names\n",
        "# Define the input as a single tensor\n",
        "initial_type = [(\"input\", FloatTensorType([p1.shape[1]]))]\n",
        "\n",
        "# Convert to ONNX\n",
        "onnx_model = convert_sklearn(model, initial_types=initial_type, target_opset=13)\n"
      ],
      "metadata": {
        "id": "KFX1b12yw-Gl"
      },
      "execution_count": null,
      "outputs": []
    },
    {
      "cell_type": "code",
      "source": [
        "# Save the ONNX model\n",
        "with open(\"modelML1.onnx\", \"wb\") as f:\n",
        "    f.write(onnx_model.SerializeToString())"
      ],
      "metadata": {
        "id": "bBsuxF_F0Gqe"
      },
      "execution_count": null,
      "outputs": []
    },
    {
      "cell_type": "code",
      "source": [
        "import onnxruntime as rt\n",
        "import numpy as np\n",
        "\n",
        "# Create an inference session\n",
        "session = rt.InferenceSession('/content/modelML1.onnx')\n",
        "\n",
        "# Convert DataFrame to numpy array\n",
        "input_data = p1.values.astype(np.float32)\n",
        "input_data1=input_data[0]\n",
        "# Prepare the input as a dictionary\n",
        "onnx_input = {\"input\": input_data1}\n",
        "\n",
        "# Run inference\n",
        "output = session.run(None,onnx_input)\n",
        "\n",
        "print(\"Model Output:\", output)\n"
      ],
      "metadata": {
        "colab": {
          "base_uri": "https://localhost:8080/"
        },
        "id": "uy2-472ovoPd",
        "outputId": "61d829c3-5896-4dc3-da5a-5b399c6d8a21"
      },
      "execution_count": null,
      "outputs": [
        {
          "output_type": "stream",
          "name": "stdout",
          "text": [
            "Model Output: [array([1], dtype=int64), [{0: 0.0, 1: 1.0, 2: 0.0, 3: 0.0}]]\n"
          ]
        }
      ]
    },
    {
      "cell_type": "code",
      "source": [
        "import onnx\n",
        "\n",
        "# Load the ONNX model\n",
        "model = onnx.load('/content/modelML1.onnx')\n",
        "\n",
        "# Display the current outputs\n",
        "print(\"Before modification, model outputs:\")\n",
        "for output in model.graph.output:\n",
        "    print(f\"Output Name: {output.name}, Type: {output.type}\")\n",
        "\n",
        "# Remove the second output\n",
        "# Assuming the model has at least two outputs, and you want to keep only the first one\n",
        "model.graph.output.pop(1)  # Remove the second output\n",
        "\n",
        "# Save the modified model\n",
        "onnx.save(model, \"modified_model.onnx\")\n",
        "\n",
        "# Verify the outputs after modification\n",
        "print(\"\\nAfter modification, model outputs:\")\n",
        "for output in model.graph.output:\n",
        "    print(f\"Output Name: {output.name}, Type: {output.type}\")\n"
      ],
      "metadata": {
        "id": "u02I0MCWs2Z_",
        "colab": {
          "base_uri": "https://localhost:8080/"
        },
        "collapsed": true,
        "outputId": "5f70293b-707c-4a34-d057-b4c339b47179"
      },
      "execution_count": null,
      "outputs": [
        {
          "output_type": "stream",
          "name": "stdout",
          "text": [
            "Before modification, model outputs:\n",
            "Output Name: output_label, Type: tensor_type {\n",
            "  elem_type: 7\n",
            "  shape {\n",
            "    dim {\n",
            "      dim_value: 6\n",
            "    }\n",
            "  }\n",
            "}\n",
            "\n",
            "Output Name: output_probability, Type: sequence_type {\n",
            "  elem_type {\n",
            "    map_type {\n",
            "      key_type: 7\n",
            "      value_type {\n",
            "        tensor_type {\n",
            "          elem_type: 1\n",
            "        }\n",
            "      }\n",
            "    }\n",
            "  }\n",
            "}\n",
            "\n",
            "\n",
            "After modification, model outputs:\n",
            "Output Name: output_label, Type: tensor_type {\n",
            "  elem_type: 7\n",
            "  shape {\n",
            "    dim {\n",
            "      dim_value: 6\n",
            "    }\n",
            "  }\n",
            "}\n",
            "\n"
          ]
        }
      ]
    },
    {
      "cell_type": "code",
      "source": [
        "import onnxruntime as rt\n",
        "import numpy as np\n",
        "\n",
        "# Create an inference session\n",
        "session = rt.InferenceSession('/content/modified_model.onnx')\n",
        "\n",
        "# Convert DataFrame to numpy array\n",
        "input_data = p1.values.astype(np.float32)\n",
        "input_data1=input_data[0]\n",
        "# Prepare the input as a dictionary\n",
        "onnx_input = {\"input\": input_data1}\n",
        "\n",
        "# Run inference\n",
        "output = session.run(None,onnx_input)\n",
        "\n",
        "print(\"Model Output:\", output)"
      ],
      "metadata": {
        "colab": {
          "base_uri": "https://localhost:8080/"
        },
        "id": "Jjho18fXxDPu",
        "outputId": "f4142aab-6383-4f60-8215-2b3f4eae7611"
      },
      "execution_count": null,
      "outputs": [
        {
          "output_type": "stream",
          "name": "stdout",
          "text": [
            "Model Output: [array([1], dtype=int64)]\n"
          ]
        }
      ]
    },
    {
      "cell_type": "code",
      "source": [
        "import onnx\n",
        "from onnx import helper, TensorProto\n",
        "\n",
        "# Load the original ONNX model\n",
        "model = onnx.load(\"/content/modified_model.onnx\")\n",
        "\n",
        "# Display existing inputs and outputs for reference\n",
        "print(\"Original model inputs:\")\n",
        "for inp in model.graph.input:\n",
        "    print(f\"Input Name: {inp.name}, Type: {inp.type}\")\n",
        "\n",
        "# Remove the existing single tensor input\n",
        "model.graph.input.pop(0)\n",
        "\n",
        "# Add six new scalar inputs\n",
        "new_inputs = [\n",
        "    helper.make_tensor_value_info(\"amplitude\", TensorProto.FLOAT, [1]),\n",
        "    helper.make_tensor_value_info(\"duration\", TensorProto.FLOAT, [1]),\n",
        "    helper.make_tensor_value_info(\"energy\", TensorProto.FLOAT, [1]),\n",
        "    helper.make_tensor_value_info(\"rms\", TensorProto.FLOAT, [1]),\n",
        "    helper.make_tensor_value_info(\"rise_time\", TensorProto.FLOAT, [1]),\n",
        "    helper.make_tensor_value_info(\"counts\", TensorProto.FLOAT, [1])\n",
        "]\n",
        "model.graph.input.extend(new_inputs)\n",
        "\n",
        "# Add a Concat node to combine the six inputs\n",
        "concat_output_name = \"concatenated_input\"\n",
        "concat_node = helper.make_node(\n",
        "    \"Concat\",\n",
        "    inputs=['amplitude','duration','energy','rms','rise_time','counts'],\n",
        "    outputs=[concat_output_name],\n",
        "    axis=0  # Concatenate along the first axis (creating a 1D tensor)\n",
        ")\n",
        "model.graph.node.insert(0, concat_node)  # Insert at the beginning of the graph\n",
        "\n",
        "# Update the first operation in the graph to take the concatenated tensor as input\n",
        "# Assume the first node in the graph takes the original input tensor\n",
        "first_node = model.graph.node[1]\n",
        "first_node.input[0] = concat_output_name\n",
        "\n",
        "# Save the modified ONNX model\n",
        "onnx.save(model, \"modified_model3.onnx\")\n",
        "\n",
        "print(\"\\nModified model inputs:\")\n",
        "for inp in model.graph.input:\n",
        "    print(f\"Input Name: {inp.name}, Type: {inp.type}\")\n",
        "\n",
        "print(\"\\nThe model has been updated to accept six separate inputs and concatenate them.\")\n"
      ],
      "metadata": {
        "colab": {
          "base_uri": "https://localhost:8080/"
        },
        "collapsed": true,
        "id": "XlREzfkCxDSn",
        "outputId": "f02ccea6-13dc-4034-93bb-af91836cc6b1"
      },
      "execution_count": null,
      "outputs": [
        {
          "output_type": "stream",
          "name": "stdout",
          "text": [
            "Original model inputs:\n",
            "Input Name: input, Type: tensor_type {\n",
            "  elem_type: 1\n",
            "  shape {\n",
            "    dim {\n",
            "      dim_value: 6\n",
            "    }\n",
            "  }\n",
            "}\n",
            "\n",
            "\n",
            "Modified model inputs:\n",
            "Input Name: amplitude, Type: tensor_type {\n",
            "  elem_type: 1\n",
            "  shape {\n",
            "    dim {\n",
            "      dim_value: 1\n",
            "    }\n",
            "  }\n",
            "}\n",
            "\n",
            "Input Name: duration, Type: tensor_type {\n",
            "  elem_type: 1\n",
            "  shape {\n",
            "    dim {\n",
            "      dim_value: 1\n",
            "    }\n",
            "  }\n",
            "}\n",
            "\n",
            "Input Name: energy, Type: tensor_type {\n",
            "  elem_type: 1\n",
            "  shape {\n",
            "    dim {\n",
            "      dim_value: 1\n",
            "    }\n",
            "  }\n",
            "}\n",
            "\n",
            "Input Name: rms, Type: tensor_type {\n",
            "  elem_type: 1\n",
            "  shape {\n",
            "    dim {\n",
            "      dim_value: 1\n",
            "    }\n",
            "  }\n",
            "}\n",
            "\n",
            "Input Name: rise_time, Type: tensor_type {\n",
            "  elem_type: 1\n",
            "  shape {\n",
            "    dim {\n",
            "      dim_value: 1\n",
            "    }\n",
            "  }\n",
            "}\n",
            "\n",
            "Input Name: counts, Type: tensor_type {\n",
            "  elem_type: 1\n",
            "  shape {\n",
            "    dim {\n",
            "      dim_value: 1\n",
            "    }\n",
            "  }\n",
            "}\n",
            "\n",
            "\n",
            "The model has been updated to accept six separate inputs and concatenate them.\n"
          ]
        }
      ]
    },
    {
      "cell_type": "code",
      "source": [
        "import onnxruntime as rt\n",
        "import numpy as np\n",
        "\n",
        "# Create an inference session\n",
        "session = rt.InferenceSession('/content/modified_model3.onnx')\n",
        "'''\n",
        "# Convert DataFrame to numpy array\n",
        "input_data = p1.values.astype(np.float32)\n",
        "input_data1=input_data[0]\n",
        "# Prepare the input as a dictionary\n",
        "onnx_input = {\"input\": input_data1}\n",
        "'''\n",
        "# Run inference\n",
        "output = session.run(None,input_data)\n",
        "\n",
        "print(\"Model Output:\", output)"
      ],
      "metadata": {
        "id": "Cxj4pkzas2c1",
        "colab": {
          "base_uri": "https://localhost:8080/"
        },
        "outputId": "680fbaf5-34e9-4b21-9550-6ba92a6822ef"
      },
      "execution_count": null,
      "outputs": [
        {
          "output_type": "stream",
          "name": "stdout",
          "text": [
            "Model Output: [array([1], dtype=int64)]\n"
          ]
        }
      ]
    },
    {
      "cell_type": "code",
      "source": [],
      "metadata": {
        "id": "1fIZ_ssss2gU"
      },
      "execution_count": null,
      "outputs": []
    },
    {
      "cell_type": "code",
      "source": [],
      "metadata": {
        "id": "BRah4wAaswbL"
      },
      "execution_count": null,
      "outputs": []
    },
    {
      "cell_type": "code",
      "source": [],
      "metadata": {
        "id": "mKcxsAVWswel"
      },
      "execution_count": null,
      "outputs": []
    }
  ]
}